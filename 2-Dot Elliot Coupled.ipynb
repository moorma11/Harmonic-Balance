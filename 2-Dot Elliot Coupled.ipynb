{
 "cells": [
  {
   "cell_type": "code",
   "execution_count": 1,
   "metadata": {},
   "outputs": [],
   "source": [
    "import numpy as np\n",
    "import mpmath \n",
    "import matplotlib.pyplot as plt\n",
    "import math as mth\n",
    "from scipy import linalg, signal, constants, optimize"
   ]
  },
  {
   "cell_type": "code",
   "execution_count": 2,
   "metadata": {},
   "outputs": [],
   "source": [
    "with open('rho_2dots_dt5e-5_fix _coupled.dat') as file:\n",
    "    rho_00_dot1_2Elliot = []\n",
    "    rho_01_real_dot1_2Elliot = []\n",
    "    rho_01_imag_dot1_2Elliot = []\n",
    "    rho_00_dot2_2Elliot = []\n",
    "    rho_01_real_dot2_2Elliot = []\n",
    "    rho_01_imag_dot2_2Elliot = []\n",
    "    for index,line in enumerate(file):\n",
    "        values = line.split(' ')\n",
    "        rho_00_dot1_2Elliot.append(np.float(values[0]))\n",
    "        rho_01_real_dot1_2Elliot.append(np.float(values[1]))\n",
    "        rho_01_imag_dot1_2Elliot.append(np.float(values[2]))\n",
    "        rho_00_dot2_2Elliot.append(np.float(values[4]))\n",
    "        rho_01_real_dot2_2Elliot.append(np.float(values[5]))\n",
    "        rho_01_imag_dot2_2Elliot.append(np.float(values[6]))\n",
    "rho_00_dot1_2Elliot = np.array(rho_00_dot1_2Elliot)\n",
    "rho_01_real_dot1_2Elliot = np.array(rho_01_real_dot1_2Elliot)\n",
    "rho_01_imag_dot1_2Elliot = np.array(rho_01_imag_dot1_2Elliot)\n",
    "rho_00_dot2_2Elliot = np.array(rho_00_dot2_2Elliot)\n",
    "rho_01_real_dot2_2Elliot = np.array(rho_01_real_dot2_2Elliot)\n",
    "rho_01_imag_dot2_2Elliot = np.array(rho_01_imag_dot2_2Elliot)"
   ]
  },
  {
   "cell_type": "code",
   "execution_count": 3,
   "metadata": {},
   "outputs": [],
   "source": [
    "with open('rho_3dots_dt5e-5_fix.dat') as file:\n",
    "    rho_00_dot1_3Elliot = []\n",
    "    rho_01_real_dot1_3Elliot = []\n",
    "    rho_01_imag_dot1_3Elliot = []\n",
    "    rho_00_dot2_3Elliot = []\n",
    "    rho_01_real_dot2_3Elliot = []\n",
    "    rho_01_imag_dot2_3Elliot = []\n",
    "    rho_00_dot3_3Elliot = []\n",
    "    rho_01_real_dot3_3Elliot = []\n",
    "    rho_01_imag_dot3_3Elliot = []\n",
    "    for index, line in enumerate(file):\n",
    "        values = line.split(' ')\n",
    "        rho_00_dot1_3Elliot.append(np.float(values[0]))\n",
    "        rho_01_real_dot1_3Elliot.append(np.float(values[1]))\n",
    "        rho_01_imag_dot1_3Elliot.append(np.float(values[2]))\n",
    "        rho_00_dot2_3Elliot.append(np.float(values[4]))\n",
    "        rho_01_real_dot2_3Elliot.append(np.float(values[5]))\n",
    "        rho_01_imag_dot2_3Elliot.append(np.float(values[6]))\n",
    "        rho_00_dot3_3Elliot.append(np.float(values[8]))\n",
    "        rho_01_real_dot3_3Elliot.append(np.float(values[9]))\n",
    "        rho_01_imag_dot3_3Elliot.append(np.float(values[10]))\n",
    "rho_00_dot1_3Elliot = np.array(rho_00_dot1_3Elliot)\n",
    "rho_01_real_dot1_3Elliot = np.array(rho_01_real_dot1_3Elliot)\n",
    "rho_01_imag_dot1_3Elliot = np.array(rho_01_imag_dot1_3Elliot)\n",
    "rho_00_dot2_3Elliot = np.array(rho_00_dot2_3Elliot)\n",
    "rho_01_real_dot2_3Elliot = np.array(rho_01_real_dot2_3Elliot)\n",
    "rho_01_imag_dot2_3Elliot = np.array(rho_01_imag_dot2_3Elliot)\n",
    "rho_00_dot3_3Elliot = np.array(rho_00_dot3_3Elliot)\n",
    "rho_01_real_dot3_3Elliot = np.array(rho_01_real_dot3_3Elliot)\n",
    "rho_01_imag_dot3_3Elliot = np.array(rho_01_imag_dot3_3Elliot)"
   ]
  },
  {
   "cell_type": "code",
   "execution_count": 4,
   "metadata": {},
   "outputs": [],
   "source": [
    "with open('rho_2dots_dt5e-5_fix_nint.dat') as file:\n",
    "    rho_00_dot1Elliot_uncoupled = []\n",
    "    rho_01_real_dot1Elliot_uncoupled = []\n",
    "    rho_01_imag_dot1Elliot_uncoupled = []\n",
    "    for index,line in enumerate(file):\n",
    "        values = line.split(' ')\n",
    "        rho_00_dot1Elliot_uncoupled.append(np.float(values[0]))\n",
    "        rho_01_real_dot1Elliot_uncoupled.append(np.float(values[1]))\n",
    "        rho_01_imag_dot1Elliot_uncoupled.append(np.float(values[2]))\n",
    "rho_01_real_dot1Elliot_uncoupled = np.array(rho_01_real_dot1Elliot_uncoupled)\n",
    "rho_01_imag_dot1Elliot_uncoupled = np.array(rho_01_imag_dot1Elliot_uncoupled)\n",
    "rho_00_dot1Elliot_uncoupled = np.array(rho_00_dot1Elliot_uncoupled)"
   ]
  },
  {
   "cell_type": "code",
   "execution_count": 5,
   "metadata": {},
   "outputs": [],
   "source": [
    "with open('chi_fix (1).dat') as file:\n",
    "    chi_fix = []\n",
    "    for index,line in enumerate(file):\n",
    "        values = line.split(' ')\n",
    "        chi_fix.append(np.float(values[0]))\n",
    "chi_fix = np.array(chi_fix)"
   ]
  },
  {
   "cell_type": "code",
   "execution_count": 6,
   "metadata": {},
   "outputs": [],
   "source": [
    "rho_00_dot1 = rho_00_dot1_2Elliot\n",
    "rho_00_dot2 = rho_00_dot2_2Elliot\n",
    "\n",
    "rho_01_dot1 = rho_01_real_dot1_2Elliot + 1j*rho_01_imag_dot1_2Elliot\n",
    "rho_01_dot2 = rho_01_real_dot2_2Elliot + 1j*rho_01_imag_dot2_2Elliot\n",
    "\n",
    "rho_00_dot1_uncoupled = rho_00_dot1Elliot_uncoupled\n",
    "rho_01_dot1_uncoupled = rho_01_real_dot1Elliot_uncoupled + 1j*rho_01_imag_dot1Elliot_uncoupled\n",
    "\n",
    "rho_00_dot2_uncoupled = rho_00_dot1Elliot_uncoupled\n",
    "rho_01_dot2_uncoupled = rho_01_real_dot1Elliot_uncoupled + 1j*rho_01_imag_dot1Elliot_uncoupled"
   ]
  },
  {
   "cell_type": "code",
   "execution_count": 7,
   "metadata": {},
   "outputs": [],
   "source": [
    "def get_uvw(rho_00,rho_01):\n",
    "    u = 2*rho_01.real\n",
    "    v = 2*rho_01.imag\n",
    "    w = 1-2*rho_00\n",
    "    return u,v,w"
   ]
  },
  {
   "cell_type": "code",
   "execution_count": 8,
   "metadata": {},
   "outputs": [],
   "source": [
    "u1_elliot,v1_elliot,w1_elliot = get_uvw(rho_00_dot1,rho_01_dot1)\n",
    "u2_elliot,v2_elliot,w2_elliot = get_uvw(rho_00_dot2,rho_01_dot2)\n",
    "\n",
    "u1_uncoup,v1_uncoup,w1_uncoup = get_uvw(rho_00_dot1_uncoupled,rho_01_dot1_uncoupled)\n",
    "u2_uncoup,v2_uncoup,w2_uncoup = get_uvw(rho_00_dot2_uncoupled,rho_01_dot2_uncoupled)\n",
    "\n",
    "t_elliot = np.linspace(0,10,u1_elliot.size)"
   ]
  },
  {
   "cell_type": "code",
   "execution_count": 9,
   "metadata": {},
   "outputs": [],
   "source": [
    "def compare_frequency_spectra_solutions(signal_t_1,signal_t_2,t,minimum_f=-t_elliot.size/2,maximum_f=t_elliot.size/2):\n",
    "    #plots the freq spec for a given signal.  minimum_f and maximum_f must be in Hz. signal is the variable name\n",
    "    stop_time = t[-1]\n",
    "    dt = stop_time/t.size\n",
    "    \n",
    "    Signal_w_1 = np.fft.fftshift(np.fft.fft(signal_t_1))\n",
    "    Signal_w_2 = np.fft.fftshift(np.fft.fft(signal_t_2))\n",
    "    freq = np.fft.fftshift(np.fft.fftfreq(signal_t_1.size,dt))\n",
    "    \n",
    "    min_nfreq = np.argmin(abs(minimum_f - freq))\n",
    "    max_nfreq = np.argmin(abs(maximum_f - freq))\n",
    "    \n",
    "    plt.figure()\n",
    "    plt.semilogy(freq[min_nfreq:max_nfreq],abs(Signal_w_1)[min_nfreq:max_nfreq],label='Chad')\n",
    "    \n",
    "    plt.semilogy(freq[min_nfreq:max_nfreq],abs(Signal_w_2)[min_nfreq:max_nfreq],label='Elliot')\n",
    "    plt.legend()\n",
    "    plt.grid()\n",
    "    plt.xlabel('Linear Frequency')\n",
    "    plt.ylabel('|Magnitude|')\n",
    "    plt.show()\n",
    "    \n",
    "#     plt.figure()\n",
    "#     plt.plot(freq[min_nfreq:max_nfreq],np.angle(Signal_w,deg=True)[min_nfreq:max_nfreq])\n",
    "#     plt.ylabel('Phase (degrees)')\n",
    "#     plt.xlabel('Linear Frequency')\n",
    "#     plt.show()"
   ]
  },
  {
   "cell_type": "code",
   "execution_count": 10,
   "metadata": {},
   "outputs": [
    {
     "name": "stdout",
     "output_type": "stream",
     "text": [
      "(1, 3)\n",
      "delta omega 1.2566370614359172\n",
      "omega r 1.2532902518354672\n",
      "12\n"
     ]
    }
   ],
   "source": [
    "#Transient Parameters\n",
    "omega_0 = 2278.9013 # in rad/picosecond\n",
    "period = 2*np.pi/omega_0\n",
    "f0 = omega_0 / (2*np.pi)\n",
    "\n",
    "stop_time = 10 #in picoseconds\n",
    "\n",
    "#Dot parameters\n",
    "sigma = 2278.9013\n",
    "t0 = 0.0\n",
    "hbar = 0.65821193\n",
    "T1 = 1e6\n",
    "T2 = 2e6\n",
    "\n",
    "#Misc Parameters\n",
    "x_hat = np.array([1,0,0])\n",
    "r_hat_dot1 = np.array([0,-1,0])\n",
    "r_hat_dot2 = np.array([0,1,0])\n",
    "c0 = 299.792458 #um/ps\n",
    "mu0 = 2.0133545e-04\n",
    "eps0 = mu0/c0**2\n",
    "R = 0.0035\n",
    "r_hat = np.array([0,1,0],dtype=float)\n",
    "d = 5.2917721e-4\n",
    "d_vector = d*x_hat\n",
    "d_vector = d_vector[:,np.newaxis].T\n",
    "print(d_vector.shape)\n",
    "E0 = 1558.8929\n",
    "\n",
    "omega_r = d*E0/hbar #+ E_rad*5.2917721e-4/hbar \n",
    "f_r = omega_r/(2*np.pi)\n",
    "\n",
    "# max_harmonic = 2\n",
    "\n",
    "delta_f = 0.2\n",
    "delta_omega = 2*np.pi*delta_f\n",
    "#f_range = 2\n",
    "# omega_range = 2*np.pi*f_range\n",
    "# num_deltas = np.floor(f_range/delta_f) + 1\n",
    "\n",
    "# alpha = np.arange(max_harmonic+1)\n",
    "# beta = np.arange(num_deltas+1)\n",
    "\n",
    "# alpha,beta = np.meshgrid(alpha,beta)\n",
    "\n",
    "# omegas = omega_0*alpha + delta_omega*beta\n",
    "\n",
    "\n",
    "# omega_k = np.sort(np.ndarray.flatten(omegas))\n",
    "\n",
    "#HB parameters\n",
    "B = 4\n",
    "m = np.arange(B+1)\n",
    "n = np.arange(-B,B+1)\n",
    "\n",
    "m,n = np.meshgrid(m,n)\n",
    "mn_sum_abs = abs(m) + abs(n)\n",
    "mn = mn_sum_abs<=B\n",
    "m = m[mn]\n",
    "n = n[mn]\n",
    "print('delta omega',delta_omega)\n",
    "print('omega r', omega_r)\n",
    "omega_k = np.hstack((2*omega_r+n*delta_omega,m*omega_0 + n*delta_omega,720 + n*delta_omega))\n",
    "\n",
    "#Remove negative frequencies for real signals \n",
    "omega_k = omega_k[omega_k>=0]\n",
    "delta_f = 0.5\n",
    "f_k = np.array([0.0,2.3,720.875,722,723.1,360.4,360.4+delta_f,360.4+2*delta_f,360.4+3*delta_f,362.6,362.7,362.8])\n",
    "omega_k = 2*np.pi*f_k\n",
    "\n",
    "num_frequencies = omega_k.size\n",
    "num_coefficients = 2*num_frequencies - 1\n",
    "\n",
    "print(omega_k.size)"
   ]
  },
  {
   "cell_type": "code",
   "execution_count": 11,
   "metadata": {},
   "outputs": [],
   "source": [
    "def get_gamma(t):\n",
    "    return np.hstack((np.cos(omega_k*t[:,np.newaxis]),np.sin(omega_k[1:]*t[:,np.newaxis])))"
   ]
  },
  {
   "cell_type": "code",
   "execution_count": 12,
   "metadata": {},
   "outputs": [
    {
     "data": {
      "image/png": "[encoded data removed]",
      "text/plain": [
       "<Figure size 432x288 with 1 Axes>"
      ]
     },
     "metadata": {
      "needs_background": "light"
     },
     "output_type": "display_data"
    }
   ],
   "source": [
    "compare_frequency_spectra_solutions(u1_elliot,u2_elliot,t_elliot,362,364)"
   ]
  },
  {
   "cell_type": "code",
   "execution_count": 13,
   "metadata": {},
   "outputs": [],
   "source": [
    "def get_gamma_t0(t):\n",
    "    return np.hstack((np.cos(omega_k*t),np.sin(omega_k[1:]*t)))"
   ]
  },
  {
   "cell_type": "code",
   "execution_count": 14,
   "metadata": {},
   "outputs": [],
   "source": [
    "def get_gamma_prime(t):\n",
    "    return np.hstack((-omega_k*np.sin(omega_k*t[:,np.newaxis]),omega_k[1:]*np.cos(omega_k[1:]*t[:,np.newaxis])))"
   ]
  },
  {
   "cell_type": "code",
   "execution_count": 15,
   "metadata": {},
   "outputs": [],
   "source": [
    "def get_gamma_double_prime(t):\n",
    "    return np.hstack((-omega_k**2*np.cos(omega_k*t[:,np.newaxis]),-(omega_k[1:])**2*np.sin(omega_k[1:]*t[:,np.newaxis])))"
   ]
  },
  {
   "cell_type": "code",
   "execution_count": 16,
   "metadata": {},
   "outputs": [],
   "source": [
    "def get_rhos(u,v,w):\n",
    "    rho_00 = 0.5 - 0.5*w\n",
    "    rho_01 = 0.5*u + 0.5j*v\n",
    "    return rho_00, rho_01"
   ]
  },
  {
   "cell_type": "code",
   "execution_count": 17,
   "metadata": {},
   "outputs": [],
   "source": [
    "def get_P(u_coeff,t):\n",
    "    delay = t - (R/c0)\n",
    "    gamma_delay = get_gamma(delay)\n",
    "    u_delay = gamma_delay@u_coeff\n",
    "    P = (u_delay.real)[:,np.newaxis]*d_vector\n",
    "    return P"
   ]
  },
  {
   "cell_type": "code",
   "execution_count": 18,
   "metadata": {},
   "outputs": [],
   "source": [
    "def get_P_prime(u_coeff,t):\n",
    "    delay = t-(R/c0)\n",
    "    gamma_prime_delay = get_gamma_prime(delay)\n",
    "    u_prime_delay = gamma_prime_delay@u_coeff\n",
    "    P_prime = (u_prime_delay.real)[:,np.newaxis]*d_vector\n",
    "    return P_prime"
   ]
  },
  {
   "cell_type": "code",
   "execution_count": 19,
   "metadata": {},
   "outputs": [],
   "source": [
    "def get_P_doubleprime(u_coeff,t):\n",
    "    delay = t-(R/c0)\n",
    "    gamma_doubleprime = get_gamma_double_prime(delay)\n",
    "    u_doubleprime_delay = gamma_doubleprime@u_coeff\n",
    "    P_doubleprime = (u_doubleprime_delay.real)[:,np.newaxis]*d_vector\n",
    "    return P_doubleprime"
   ]
  },
  {
   "cell_type": "code",
   "execution_count": 20,
   "metadata": {},
   "outputs": [],
   "source": [
    "def get_E_rad(u_coeff,v_coeff,w_coeff,t,r_hat):\n",
    "    P = get_P(u_coeff,t)\n",
    "    P_prime = get_P_prime(u_coeff,t)\n",
    "    P_doubleprime = get_P_doubleprime(u_coeff,t)\n",
    "\n",
    "    I = np.eye(3)\n",
    "    \n",
    "    E_rad = (np.dot((I-np.outer(r_hat,r_hat))/(R*c0**2),P_doubleprime.T)\n",
    "             \n",
    "            + np.dot((I-3*np.outer(r_hat,r_hat))/(c0*R**2),P_prime.T) \n",
    "             \n",
    "            + np.dot((I-3*np.outer(r_hat,r_hat)),P.T/R**3))\n",
    "    \n",
    "    E_rad *= -1/(4*np.pi*eps0)\n",
    "    \n",
    "    return E_rad.T"
   ]
  },
  {
   "cell_type": "code",
   "execution_count": 21,
   "metadata": {},
   "outputs": [],
   "source": [
    "def get_chi(t, Er_dot1,Er_dot2):\n",
    "    wave_vector = x_hat\n",
    "    r = x_hat*0.0\n",
    "    args = np.dot(wave_vector,r) - omega_0*(t-t0)\n",
    "    \n",
    "    #pulse = np.exp(omega_0*(t - t0)**2/(2*sigma**2))\n",
    "    #pulse = 0\n",
    "    pulse = 1\n",
    "    El = (E0*np.cos(args)*pulse)[:,np.newaxis]*x_hat\n",
    "    \n",
    "    E = El + Er_dot1 + Er_dot2\n",
    "\n",
    "    chi = np.dot(d_vector,E.T) / hbar\n",
    "    \n",
    "    return chi[0,:]"
   ]
  },
  {
   "cell_type": "code",
   "execution_count": 22,
   "metadata": {},
   "outputs": [],
   "source": [
    "t_k = np.linspace(0,stop_time,num_coefficients - 1)"
   ]
  },
  {
   "cell_type": "code",
   "execution_count": 23,
   "metadata": {},
   "outputs": [],
   "source": [
    "def get_f(coefficients,t=t_k):\n",
    "    num_coefficients = 2*num_frequencies - 1\n",
    "    \n",
    "    u1_coeff = coefficients[:num_coefficients]\n",
    "    v1_coeff = coefficients[num_coefficients:2*num_coefficients]\n",
    "    w1_coeff = coefficients[2*num_coefficients:3*num_coefficients]\n",
    "    \n",
    "    u2_coeff = coefficients[3*num_coefficients:4*num_coefficients]\n",
    "    v2_coeff = coefficients[4*num_coefficients:5*num_coefficients]\n",
    "    w2_coeff = coefficients[5*num_coefficients:]\n",
    "    \n",
    "    gamma_t = get_gamma(t)\n",
    "    gamma_prime = get_gamma_prime(t)\n",
    "    gamma_0 = get_gamma_t0(0)\n",
    "    gamma_double_prime = get_gamma_double_prime(t)\n",
    "    \n",
    "    u1 = gamma_t@u1_coeff\n",
    "    v1 = gamma_t@v1_coeff\n",
    "    w1 = gamma_t@w1_coeff\n",
    "    \n",
    "    u1_prime = gamma_prime@u1_coeff\n",
    "    v1_prime = gamma_prime@v1_coeff\n",
    "    w1_prime = gamma_prime@w1_coeff\n",
    "    \n",
    "    u2 = gamma_t@u2_coeff\n",
    "    v2 = gamma_t@v2_coeff\n",
    "    w2 = gamma_t@w2_coeff\n",
    "    \n",
    "    u2_prime = gamma_prime@u2_coeff\n",
    "    v2_prime = gamma_prime@v2_coeff\n",
    "    w2_prime = gamma_prime@w2_coeff\n",
    "    \n",
    "    \n",
    "    rho_00_dot1,rho_01_dot1 = get_rhos(u1,v1,w1)\n",
    "    rho_00_dot2,rho_01_dot2 = get_rhos(u2,v2,w2)\n",
    "     \n",
    "    Er_dot1 = get_E_rad(u1_coeff,v1_coeff,w1_coeff,t,r_hat_dot1)\n",
    "    Er_dot2 = get_E_rad(u2_coeff,v2_coeff,w2_coeff,t,r_hat_dot2)\n",
    "    \n",
    "    chi = get_chi(t,Er_dot1,Er_dot2)\n",
    "    \n",
    "    f1_dot1 = -omega_0*v1 - u1_prime\n",
    "    f2_dot1 = omega_0*u1 - 2*chi*w1 - v1_prime\n",
    "    f3_dot1 = 2*chi*v1 - w1_prime\n",
    "    f4_dot1 = gamma_0@u1_coeff\n",
    "    f5_dot1 = gamma_0@v1_coeff\n",
    "    f6_dot1 = gamma_0@w1_coeff + 1\n",
    "    \n",
    "    f1_dot2 = -omega_0*v2 - u2_prime\n",
    "    f2_dot2 = omega_0*u2 - 2*chi*w2 - v2_prime\n",
    "    f3_dot2 = 2*chi*v2 - w2_prime\n",
    "    f4_dot2 = gamma_0@u2_coeff\n",
    "    f5_dot2 = gamma_0@v2_coeff\n",
    "    f6_dot2 = gamma_0@w2_coeff + 1\n",
    "    \n",
    "    #plot_harmonic_error(f1_dot1,f2_dot1,f3_dot1,f4_dot1,f5_dot1,f6_dot1)\n",
    "    #plot_harmonic_error(f1_dot2,f2_dot2,f3_dot2,f4_dot2,f5_dot2,f6_dot2)\n",
    "    \n",
    "    fk_dot1 = np.hstack((f1_dot1,f2_dot1,f3_dot1,f4_dot1,f5_dot1,f6_dot1))\n",
    "    fk_dot2 = np.hstack((f1_dot2,f2_dot2,f3_dot2,f4_dot2,f5_dot2,f6_dot2))\n",
    "    \n",
    "    return np.hstack((fk_dot1,fk_dot2))"
   ]
  },
  {
   "cell_type": "code",
   "execution_count": 24,
   "metadata": {},
   "outputs": [],
   "source": [
    "gamma = get_gamma(t_elliot)\n",
    "W = gamma.T@gamma\n",
    "W_inv = linalg.inv(W)\n",
    "\n",
    "u1_guess = W_inv@gamma.T@u1_elliot\n",
    "v1_guess = W_inv@gamma.T@v1_elliot\n",
    "w1_guess = W_inv@gamma.T@w1_elliot\n",
    "\n",
    "u2_guess = W_inv@gamma.T@u2_elliot\n",
    "v2_guess = W_inv@gamma.T@v2_elliot\n",
    "w2_guess = W_inv@gamma.T@w2_elliot\n",
    "\n",
    "coefficients_guess = np.hstack((u1_guess,v1_guess,w1_guess,u2_guess,v2_guess,w2_guess))"
   ]
  },
  {
   "cell_type": "code",
   "execution_count": 25,
   "metadata": {},
   "outputs": [],
   "source": [
    "u1_chad = gamma@u1_guess\n",
    "v1_chad = gamma@v1_guess\n",
    "w1_chad = gamma@w1_guess\n",
    "\n",
    "u2_chad = gamma@u2_guess\n",
    "v2_chad = gamma@v2_guess\n",
    "w2_chad = gamma@w2_guess"
   ]
  },
  {
   "cell_type": "code",
   "execution_count": 26,
   "metadata": {},
   "outputs": [
    {
     "name": "stderr",
     "output_type": "stream",
     "text": [
      "/home/moormanc212/anaconda3/lib/python3.7/site-packages/scipy/optimize/minpack.py:162: RuntimeWarning: The iteration is not making good progress, as measured by the \n",
      "  improvement from the last five Jacobian evaluations.\n",
      "  warnings.warn(msg, RuntimeWarning)\n"
     ]
    }
   ],
   "source": [
    "coeff = optimize.fsolve(get_f,coefficients_guess)"
   ]
  },
  {
   "cell_type": "code",
   "execution_count": 27,
   "metadata": {},
   "outputs": [],
   "source": [
    "u1_coeff = coeff[:num_coefficients]\n",
    "v1_coeff = coeff[num_coefficients:2*num_coefficients]\n",
    "w1_coeff = coeff[2*num_coefficients:3*num_coefficients]\n",
    "\n",
    "u2_coeff = coeff[3*num_coefficients:4*num_coefficients]\n",
    "v2_coeff = coeff[4*num_coefficients:5*num_coefficients]\n",
    "w2_coeff = coeff[5*num_coefficients:]\n",
    "\n",
    "u1 = gamma@u1_coeff\n",
    "v1 = gamma@v1_coeff\n",
    "w1 = gamma@w1_coeff\n",
    "\n",
    "u2 = gamma@u2_coeff\n",
    "v2 = gamma@v2_coeff\n",
    "w2 = gamma@w2_coeff"
   ]
  },
  {
   "cell_type": "code",
   "execution_count": 31,
   "metadata": {},
   "outputs": [
    {
     "data": {
      "image/png": "[encoded data removed]",
      "text/plain": [
       "<Figure size 432x288 with 1 Axes>"
      ]
     },
     "metadata": {
      "needs_background": "light"
     },
     "output_type": "display_data"
    }
   ],
   "source": [
    "compare_frequency_spectra_solutions(u1_chad,u1_elliot,t_elliot,359,365)"
   ]
  },
  {
   "cell_type": "code",
   "execution_count": 29,
   "metadata": {},
   "outputs": [
    {
     "name": "stderr",
     "output_type": "stream",
     "text": [
      "/home/moormanc212/anaconda3/lib/python3.7/site-packages/IPython/core/pylabtools.py:132: UserWarning: Creating legend with loc=\"best\" can be slow with large amounts of data.\n",
      "  fig.canvas.print_figure(bytes_io, **kw)\n"
     ]
    },
    {
     "data": {
      "image/png": "[encoded data removed]",
      "text/plain": [
       "<Figure size 432x288 with 1 Axes>"
      ]
     },
     "metadata": {
      "needs_background": "light"
     },
     "output_type": "display_data"
    }
   ],
   "source": [
    "plt.figure()\n",
    "plt.plot(t_elliot,u1_chad,label='u1 Guess')\n",
    "plt.plot(t_elliot,u1_elliot,label='u1  Solution Elliot')\n",
    "plt.legend()\n",
    "plt.show()"
   ]
  },
  {
   "cell_type": "code",
   "execution_count": 30,
   "metadata": {},
   "outputs": [
    {
     "name": "stderr",
     "output_type": "stream",
     "text": [
      "/home/moormanc212/anaconda3/lib/python3.7/site-packages/IPython/core/pylabtools.py:132: UserWarning: Creating legend with loc=\"best\" can be slow with large amounts of data.\n",
      "  fig.canvas.print_figure(bytes_io, **kw)\n"
     ]
    },
    {
     "data": {
      "image/png": "[encoded data removed]",
      "text/plain": [
       "<Figure size 432x288 with 1 Axes>"
      ]
     },
     "metadata": {
      "needs_background": "light"
     },
     "output_type": "display_data"
    }
   ],
   "source": [
    "plt.figure()\n",
    "plt.plot(t_elliot,u1,label='Chad solution u1')\n",
    "plt.plot(t_elliot,u1_elliot,label='Elliot solution u1')\n",
    "plt.legend()\n",
    "plt.show()"
   ]
  },
  {
   "cell_type": "code",
   "execution_count": null,
   "metadata": {},
   "outputs": [],
   "source": []
  }
 ],
 "metadata": {
  "kernelspec": {
   "display_name": "Python 3",
   "language": "python",
   "name": "python3"
  },
  "language_info": {
   "codemirror_mode": {
    "name": "ipython",
    "version": 3
   },
   "file_extension": ".py",
   "mimetype": "text/x-python",
   "name": "python",
   "nbconvert_exporter": "python",
   "pygments_lexer": "ipython3",
   "version": "3.7.6"
  }
 },
 "nbformat": 4,
 "nbformat_minor": 4
}
