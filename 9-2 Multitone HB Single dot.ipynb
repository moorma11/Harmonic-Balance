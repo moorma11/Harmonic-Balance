{
 "cells": [
  {
   "cell_type": "code",
   "execution_count": 1,
   "metadata": {},
   "outputs": [],
   "source": [
    "import numpy as np\n",
    "import mpmath \n",
    "import matplotlib.pyplot as plt\n",
    "import math as mth\n",
    "from scipy import linalg, signal, constants, optimize, signal"
   ]
  },
  {
   "cell_type": "code",
   "execution_count": 2,
   "metadata": {},
   "outputs": [],
   "source": [
    "with open('rho_1dots_dt5e-5_fixed.dat') as file:\n",
    "    rho_00_Elliot = []\n",
    "    for index,line in enumerate(file):\n",
    "        values = line.split(' ')\n",
    "        rho_00_Elliot.append(np.float(values[0]))\n",
    "rho_00_Elliot = np.array(rho_00_Elliot)"
   ]
  },
  {
   "cell_type": "code",
   "execution_count": 3,
   "metadata": {},
   "outputs": [],
   "source": [
    "with open('chi_fix.dat') as file:\n",
    "    chi_Elliot = []\n",
    "    for index,line in enumerate(file):\n",
    "        values = line.split(' ')\n",
    "        chi_Elliot.append(np.float(values[0]))\n",
    "chi_Elliot = np.array(chi_Elliot)"
   ]
  },
  {
   "cell_type": "code",
   "execution_count": 4,
   "metadata": {},
   "outputs": [],
   "source": [
    "with open('rho_1dots_dt5e-5_fixed.dat') as file:\n",
    "    rho_01_real_Elliot = []\n",
    "    for index,line in enumerate(file):\n",
    "        values = line.split(' ')\n",
    "        rho_01_real_Elliot.append(np.float(values[1]))\n",
    "rho_01_real_Elliot = np.array(rho_01_real_Elliot)"
   ]
  },
  {
   "cell_type": "code",
   "execution_count": 5,
   "metadata": {},
   "outputs": [],
   "source": [
    "with open('rho_1dots_dt5e-5_fixed.dat') as file:\n",
    "    rho_01_imag_Elliot = []\n",
    "    for index,line in enumerate(file):\n",
    "        values = line.split(' ')\n",
    "        rho_01_imag_Elliot.append(np.float(values[2]))\n",
    "rho_01_imag_Elliot = np.array(rho_01_imag_Elliot)"
   ]
  },
  {
   "cell_type": "code",
   "execution_count": 6,
   "metadata": {},
   "outputs": [],
   "source": [
    "#HB parameters\n",
    "B = 5"
   ]
  },
  {
   "cell_type": "code",
   "execution_count": 7,
   "metadata": {},
   "outputs": [],
   "source": [
    "m = np.arange(-B,B+1)\n",
    "n = np.arange(-B,B+1)\n",
    "mn_sum_abs = np.add.outer(abs(m),abs(n))\n",
    "\n",
    "m,n = np.meshgrid(m,n)\n",
    "\n",
    "mn = mn_sum_abs<=B\n",
    "m = m[mn]\n",
    "n = n[mn]\n",
    "\n",
    "m_positive = m>=0\n",
    "\n",
    "m = m[m_positive]\n",
    "n = n[m_positive]"
   ]
  },
  {
   "cell_type": "code",
   "execution_count": 8,
   "metadata": {},
   "outputs": [],
   "source": [
    "#Transient Parameters\n",
    "omega_0 = 2278.9013 # in rad/picosecond\n",
    "period = 2*np.pi/omega_0\n",
    "f0 = omega_0 / (2*np.pi)\n",
    "\n",
    "stop_time = 10 #in picoseconds\n",
    "\n",
    "#Dot parameters\n",
    "sigma = 2278.9013\n",
    "t0 = 0.0\n",
    "hbar = 0.65821193\n",
    "T1 = 1e6\n",
    "T2 = 2e6\n",
    "\n",
    "omega_r = 5.2917721e-4*1558.8929/hbar\n",
    "f_r = omega_r/(2*np.pi)\n",
    "# omega_k = np.sort(m*omega_0 + n*omega_r)\n",
    "\n",
    "# #Remove negative frequencies for real signals\n",
    "# omega_k = omega_k[omega_k>=0]\n",
    "\n",
    "omega_k = np.array([omega_r,omega_0-omega_r,omega_0+omega_r,2*(omega_0-omega_r),2*(omega_0+omega_r)])\n",
    "\n",
    "num_frequencies = omega_k.size\n",
    "num_coefficients = 2*num_frequencies - 1"
   ]
  },
  {
   "cell_type": "code",
   "execution_count": 9,
   "metadata": {},
   "outputs": [],
   "source": [
    "t_elliot = np.linspace(0,stop_time,rho_01_imag_Elliot.size)\n",
    "rho_01_Elliot = rho_01_real_Elliot + 1j*rho_01_imag_Elliot\n",
    "dt = stop_time/t_elliot.size"
   ]
  },
  {
   "cell_type": "code",
   "execution_count": 10,
   "metadata": {},
   "outputs": [],
   "source": [
    "def convert_exp_to_trig(Dn):\n",
    "    #Takes in ONE fourier coefficient and returns a and b\n",
    "    a = (2*Dn).real\n",
    "    b = (-2*Dn).imag\n",
    "    return a,b"
   ]
  },
  {
   "cell_type": "code",
   "execution_count": 11,
   "metadata": {},
   "outputs": [],
   "source": [
    "def plot_frequency_spectra(signal_t,t,minimum_f=-t_elliot.size/2,maximum_f=t_elliot.size/2):\n",
    "    #plots the freq spec for a given signal.  minimum_f and maximum_f must be in Hz. signal is the variable name\n",
    "    stop_time = t[-1]\n",
    "    dt = stop_time/t.size\n",
    "    Signal_w = np.fft.fftshift(np.fft.fft(signal_t))\n",
    "    freq = np.fft.fftshift(np.fft.fftfreq(signal_t.size,dt))\n",
    "    \n",
    "    min_nfreq = np.argmin(abs(minimum_f - freq))\n",
    "    max_nfreq = np.argmin(abs(maximum_f - freq))\n",
    "    \n",
    "    plt.figure()\n",
    "    plt.semilogy(freq[min_nfreq:max_nfreq],abs(Signal_w)[min_nfreq:max_nfreq])\n",
    "    plt.xlabel('Linear Frequency')\n",
    "    plt.ylabel('|Magnitude|')\n",
    "    plt.show()\n",
    "    \n",
    "    plt.figure()\n",
    "    plt.plot(freq[min_nfreq:max_nfreq],np.angle(Signal_w,deg=True)[min_nfreq:max_nfreq])\n",
    "    plt.ylabel('Phase (degrees)')\n",
    "    plt.xlabel('Linear Frequency')\n",
    "    plt.show()"
   ]
  },
  {
   "cell_type": "code",
   "execution_count": 12,
   "metadata": {},
   "outputs": [],
   "source": [
    "def get_gamma(t):\n",
    "    return np.hstack((np.cos(omega_k*t[:,np.newaxis]),np.sin(omega_k[1:]*t[:,np.newaxis])))"
   ]
  },
  {
   "cell_type": "code",
   "execution_count": 13,
   "metadata": {},
   "outputs": [],
   "source": [
    "def get_gamma_t0(t):\n",
    "    return np.hstack((np.cos(omega_k*t),np.sin(omega_k[1:]*t)))"
   ]
  },
  {
   "cell_type": "code",
   "execution_count": 14,
   "metadata": {},
   "outputs": [],
   "source": [
    "def get_gamma_prime(t):\n",
    "    return np.hstack((-omega_k*np.sin(omega_k*t[:,np.newaxis]),omega_k[1:]*np.cos(omega_k[1:]*t[:,np.newaxis])))"
   ]
  },
  {
   "cell_type": "code",
   "execution_count": 15,
   "metadata": {},
   "outputs": [],
   "source": [
    "def get_uvw(rho_00,rho_01):\n",
    "    u = 2*rho_01.real\n",
    "    v = 2*rho_01.imag\n",
    "    w = 1-2*rho_00\n",
    "    return u,v,w"
   ]
  },
  {
   "cell_type": "code",
   "execution_count": 16,
   "metadata": {},
   "outputs": [],
   "source": [
    "u_elliot,v_elliot,w_elliot = get_uvw(rho_00_Elliot,rho_01_Elliot)\n",
    "\n",
    "U_elliot = np.fft.fft(u_elliot)\n",
    "V_elliot = np.fft.fft(v_elliot)\n",
    "W_elliot = np.fft.fft(w_elliot)"
   ]
  },
  {
   "cell_type": "code",
   "execution_count": 17,
   "metadata": {},
   "outputs": [],
   "source": [
    "def get_chi(t):\n",
    "    x_hat = np.array([1,0,0])\n",
    "    wave_vector = x_hat\n",
    "    r = x_hat*0.0\n",
    "    args = np.dot(wave_vector,r) - omega_0*(t-t0)\n",
    "\n",
    "    d = 5.2917721e-4*x_hat\n",
    "    E0 = 1558.8929\n",
    "    \n",
    "    #pulse = np.exp(omega_0*(t - t0)**2/(2*sigma**2))\n",
    "    #pulse = 0\n",
    "    pulse = 1\n",
    "    \n",
    "    El = np.array([E0*np.cos(args)*pulse,0,0])\n",
    "    chi = np.dot(d,El) / hbar\n",
    "    return chi"
   ]
  },
  {
   "cell_type": "code",
   "execution_count": 18,
   "metadata": {},
   "outputs": [],
   "source": [
    "t_k = np.linspace(0,stop_time,num_coefficients - 1)"
   ]
  },
  {
   "cell_type": "code",
   "execution_count": 19,
   "metadata": {},
   "outputs": [],
   "source": [
    "def get_rho_00(a0,a1r,b1r,a2_plus,b2_plus,a2_minus,b2_minus,t):\n",
    "    rho_00 = a0\n",
    "    rho_00 += a1r*np.cos(omega_r*t) + b1r*np.sin(omega_r*t)\n",
    "    rho_00 += a2_plus*np.cos(2*(omega_0+omega_r)*t) + b2_plus*np.sin(2*(omega_0+omega_r)*t)\n",
    "    rho_00 += a2_minus*np.cos(2*(omega_0-omega_r)*t) + b2_minus*np.sin(2*(omega_0+omega_r)*t)\n",
    "    return rho_00"
   ]
  },
  {
   "cell_type": "code",
   "execution_count": 20,
   "metadata": {},
   "outputs": [],
   "source": [
    "def get_rhos(u,v,w):\n",
    "    rho_00 = 0.5 - 0.5*w\n",
    "    rho_01 = 0.5*u + 0.5j*v\n",
    "    return rho_00, rho_01"
   ]
  },
  {
   "cell_type": "code",
   "execution_count": 21,
   "metadata": {},
   "outputs": [],
   "source": [
    "def plot_harmonic_error(f1,f2,f3):\n",
    "    plt.figure()\n",
    "    plt.semilogy(abs(f1),label='f1')\n",
    "    plt.semilogy(abs(f2),label='f2')\n",
    "    plt.semilogy(abs(f3),label='f3')\n",
    "    plt.legend()\n",
    "    plt.show()"
   ]
  },
  {
   "cell_type": "code",
   "execution_count": 22,
   "metadata": {},
   "outputs": [],
   "source": [
    "def get_f(coefficients,t=t_k):\n",
    "    chi = get_chi(t)\n",
    "    \n",
    "    num_coefficients = 2*num_frequencies - 1\n",
    "    \n",
    "    u_coeff = coefficients[:num_coefficients]\n",
    "    v_coeff = coefficients[num_coefficients:2*num_coefficients]\n",
    "    w_coeff = coefficients[2*num_coefficients:]\n",
    "    \n",
    "    gamma = get_gamma(t_k)\n",
    "    gamma_prime = get_gamma_prime(t_k)\n",
    "    gamma_0 = get_gamma_t0(0)\n",
    "    \n",
    "    u = gamma@u_coeff\n",
    "    v = gamma@v_coeff\n",
    "    w = gamma@w_coeff\n",
    "    \n",
    "    u_dot = gamma_prime@u_coeff\n",
    "    v_dot = gamma_prime@v_coeff\n",
    "    w_dot = gamma_prime@w_coeff\n",
    "    \n",
    "    f1 = -omega_0*v - u_dot\n",
    "    f2 = omega_0*u - 2*chi*w - v_dot\n",
    "    f3 = 2*chi*v - w_dot\n",
    "    f4 = gamma_0@u_coeff\n",
    "    f5 = gamma_0@v_coeff\n",
    "    f6 = gamma_0@w_coeff + 1\n",
    "    \n",
    "    #plot_harmonic_error(f1,f2,f3)\n",
    "    \n",
    "    fk = np.hstack((f1,f2,f3,f4,f5,f6))\n",
    "    return fk"
   ]
  },
  {
   "cell_type": "code",
   "execution_count": 23,
   "metadata": {},
   "outputs": [],
   "source": [
    "gamma = get_gamma(t_elliot)\n",
    "W = gamma.T@gamma\n",
    "W_inv = linalg.inv(W)\n",
    "\n",
    "ucoeff_guess = W_inv@gamma.T@u_elliot\n",
    "vcoeff_guess = W_inv@gamma.T@v_elliot\n",
    "wcoeff_guess = W_inv@gamma.T@w_elliot\n",
    "\n",
    "coefficients_guess = np.hstack((ucoeff_guess,vcoeff_guess,wcoeff_guess)) + 1e-6\n",
    "\n",
    "u_guess = get_gamma(t_elliot)@ucoeff_guess\n",
    "v_guess = get_gamma(t_elliot)@vcoeff_guess\n",
    "w_guess = get_gamma(t_elliot)@wcoeff_guess"
   ]
  },
  {
   "cell_type": "code",
   "execution_count": 37,
   "metadata": {},
   "outputs": [],
   "source": [
    "coeff = optimize.fsolve(get_f, coefficients_guess)"
   ]
  },
  {
   "cell_type": "code",
   "execution_count": 38,
   "metadata": {},
   "outputs": [],
   "source": [
    "u_coeff = coeff[:num_coefficients]\n",
    "v_coeff = coeff[num_coefficients:2*num_coefficients]\n",
    "w_coeff = coeff[2*num_coefficients:]\n",
    "\n",
    "u = get_gamma(t_elliot)@u_coeff\n",
    "v = get_gamma(t_elliot)@v_coeff\n",
    "w = get_gamma(t_elliot)@w_coeff\n",
    "\n",
    "W_guess = np.fft.fftshift(np.fft.fft(w_guess))"
   ]
  },
  {
   "cell_type": "code",
   "execution_count": 39,
   "metadata": {},
   "outputs": [
    {
     "name": "stderr",
     "output_type": "stream",
     "text": [
      "/home/moormanc212/anaconda3/lib/python3.7/site-packages/IPython/core/pylabtools.py:132: UserWarning: Creating legend with loc=\"best\" can be slow with large amounts of data.\n",
      "  fig.canvas.print_figure(bytes_io, **kw)\n"
     ]
    },
    {
     "data": {
      "image/png": "[encoded data removed]",
      "text/plain": [
       "<Figure size 432x288 with 1 Axes>"
      ]
     },
     "metadata": {
      "needs_background": "light"
     },
     "output_type": "display_data"
    }
   ],
   "source": [
    "plt.figure()\n",
    "plt.plot(t_elliot,u,label='u Chad')\n",
    "plt.plot(t_elliot,u_elliot.real,label='u Elliot')\n",
    "plt.xlabel('time (ps)')\n",
    "plt.legend()\n",
    "plt.show()"
   ]
  },
  {
   "cell_type": "code",
   "execution_count": 40,
   "metadata": {},
   "outputs": [
    {
     "name": "stderr",
     "output_type": "stream",
     "text": [
      "/home/moormanc212/anaconda3/lib/python3.7/site-packages/IPython/core/pylabtools.py:132: UserWarning: Creating legend with loc=\"best\" can be slow with large amounts of data.\n",
      "  fig.canvas.print_figure(bytes_io, **kw)\n"
     ]
    },
    {
     "data": {
      "image/png": "[encoded data removed]",
      "text/plain": [
       "<Figure size 432x288 with 1 Axes>"
      ]
     },
     "metadata": {
      "needs_background": "light"
     },
     "output_type": "display_data"
    }
   ],
   "source": [
    "plt.figure()\n",
    "plt.plot(t_elliot,v,label='v Chad')\n",
    "#plt.plot(t_elliot,v_elliot.real,label='v Elliot')\n",
    "plt.plot(t_elliot,v_guess)\n",
    "plt.xlabel('time (ps)')\n",
    "plt.legend()\n",
    "plt.show()"
   ]
  },
  {
   "cell_type": "code",
   "execution_count": 41,
   "metadata": {},
   "outputs": [
    {
     "name": "stderr",
     "output_type": "stream",
     "text": [
      "/home/moormanc212/anaconda3/lib/python3.7/site-packages/IPython/core/pylabtools.py:132: UserWarning: Creating legend with loc=\"best\" can be slow with large amounts of data.\n",
      "  fig.canvas.print_figure(bytes_io, **kw)\n"
     ]
    },
    {
     "data": {
      "image/png": "[encoded data removed]",
      "text/plain": [
       "<Figure size 432x288 with 1 Axes>"
      ]
     },
     "metadata": {
      "needs_background": "light"
     },
     "output_type": "display_data"
    }
   ],
   "source": [
    "plt.figure()\n",
    "plt.plot(t_elliot,w,label='w Chad')\n",
    "plt.plot(t_elliot,w_elliot.real,label='w Elliot')\n",
    "plt.xlabel('time (ps)')\n",
    "plt.legend()\n",
    "plt.show()"
   ]
  },
  {
   "cell_type": "code",
   "execution_count": 42,
   "metadata": {},
   "outputs": [],
   "source": [
    "w_L2_error = linalg.norm(w - w_elliot)/linalg.norm(w_elliot)\n",
    "v_L2_error = linalg.norm(v - v_elliot)/linalg.norm(v_elliot)\n",
    "u_L2_error = linalg.norm(u - u_elliot)/linalg.norm(u_elliot)"
   ]
  },
  {
   "cell_type": "code",
   "execution_count": 43,
   "metadata": {},
   "outputs": [],
   "source": [
    "U = np.fft.fftshift(np.fft.fft(u))\n",
    "V = np.fft.fftshift(np.fft.fft(v))\n",
    "W = np.fft.fftshift(np.fft.fft(w))\n",
    "\n",
    "U_elliot = np.fft.fftshift(np.fft.fft(u_elliot))\n",
    "V_elliot = np.fft.fftshift(np.fft.fft(v_elliot))\n",
    "W_elliot = np.fft.fftshift(np.fft.fft(w_elliot))\n",
    "\n",
    "frequency = np.fft.fftshift(np.fft.fftfreq(U.size,d=dt))"
   ]
  },
  {
   "cell_type": "code",
   "execution_count": 44,
   "metadata": {},
   "outputs": [
    {
     "name": "stderr",
     "output_type": "stream",
     "text": [
      "/home/moormanc212/anaconda3/lib/python3.7/site-packages/IPython/core/pylabtools.py:132: UserWarning: Creating legend with loc=\"best\" can be slow with large amounts of data.\n",
      "  fig.canvas.print_figure(bytes_io, **kw)\n"
     ]
    },
    {
     "data": {
      "image/png": "[encoded data removed]",
      "text/plain": [
       "<Figure size 432x288 with 1 Axes>"
      ]
     },
     "metadata": {
      "needs_background": "light"
     },
     "output_type": "display_data"
    }
   ],
   "source": [
    "plt.figure()\n",
    "plt.semilogy(frequency,abs(U), label='U Chad')\n",
    "plt.semilogy(frequency,abs(U_elliot),label='U Elliot')\n",
    "plt.xlabel('Frequency (ps^-1)')\n",
    "plt.legend()\n",
    "plt.grid()\n",
    "plt.show()"
   ]
  },
  {
   "cell_type": "code",
   "execution_count": 45,
   "metadata": {},
   "outputs": [
    {
     "name": "stderr",
     "output_type": "stream",
     "text": [
      "/home/moormanc212/anaconda3/lib/python3.7/site-packages/IPython/core/pylabtools.py:132: UserWarning: Creating legend with loc=\"best\" can be slow with large amounts of data.\n",
      "  fig.canvas.print_figure(bytes_io, **kw)\n"
     ]
    },
    {
     "data": {
      "image/png": "[encoded data removed]",
      "text/plain": [
       "<Figure size 432x288 with 1 Axes>"
      ]
     },
     "metadata": {
      "needs_background": "light"
     },
     "output_type": "display_data"
    }
   ],
   "source": [
    "plt.figure()\n",
    "plt.semilogy(frequency,abs(V), label='V Chad')\n",
    "plt.semilogy(frequency,abs(V_elliot),label='V Elliot')\n",
    "plt.xlabel('Frequency (ps^-1)')\n",
    "plt.legend()\n",
    "plt.grid()\n",
    "plt.show()"
   ]
  },
  {
   "cell_type": "code",
   "execution_count": 46,
   "metadata": {},
   "outputs": [
    {
     "name": "stderr",
     "output_type": "stream",
     "text": [
      "/home/moormanc212/anaconda3/lib/python3.7/site-packages/IPython/core/pylabtools.py:132: UserWarning: Creating legend with loc=\"best\" can be slow with large amounts of data.\n",
      "  fig.canvas.print_figure(bytes_io, **kw)\n"
     ]
    },
    {
     "data": {
      "image/png": "[encoded data removed]",
      "text/plain": [
       "<Figure size 432x288 with 1 Axes>"
      ]
     },
     "metadata": {
      "needs_background": "light"
     },
     "output_type": "display_data"
    }
   ],
   "source": [
    "plt.figure()\n",
    "plt.semilogy(frequency,abs(W), label='W Chad')\n",
    "plt.semilogy(frequency,abs(W_elliot),label='W Elliot')\n",
    "plt.xlabel('Frequency (ps^-1)')\n",
    "plt.legend()\n",
    "plt.grid()\n",
    "plt.show()"
   ]
  },
  {
   "cell_type": "code",
   "execution_count": 47,
   "metadata": {},
   "outputs": [
    {
     "name": "stdout",
     "output_type": "stream",
     "text": [
      "Number of frequencies solved: 5\n",
      "u L2 norm error 0.06561871202029854\n",
      "v L2 norm error 0.06561916795292345\n",
      "w L2 norm error 0.001092508779345386\n"
     ]
    }
   ],
   "source": [
    "print('Number of frequencies solved:',num_frequencies)\n",
    "print('u L2 norm error',u_L2_error)\n",
    "print('v L2 norm error',v_L2_error)\n",
    "print('w L2 norm error', w_L2_error)"
   ]
  },
  {
   "cell_type": "code",
   "execution_count": null,
   "metadata": {},
   "outputs": [],
   "source": []
  }
 ],
 "metadata": {
  "kernelspec": {
   "display_name": "Python 3",
   "language": "python",
   "name": "python3"
  },
  "language_info": {
   "codemirror_mode": {
    "name": "ipython",
    "version": 3
   },
   "file_extension": ".py",
   "mimetype": "text/x-python",
   "name": "python",
   "nbconvert_exporter": "python",
   "pygments_lexer": "ipython3",
   "version": "3.7.6"
  }
 },
 "nbformat": 4,
 "nbformat_minor": 4
}
