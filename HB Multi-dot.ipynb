{
 "cells": [
  {
   "cell_type": "code",
   "execution_count": 1,
   "metadata": {},
   "outputs": [],
   "source": [
    "import numpy as np\n",
    "import mpmath \n",
    "import matplotlib.pyplot as plt\n",
    "from IPython.display import Audio\n",
    "import math as mth\n",
    "from time import time\n",
    "from contextlib import contextmanager\n",
    "from scipy import linalg, signal, constants, optimize"
   ]
  },
  {
   "cell_type": "code",
   "execution_count": 2,
   "metadata": {},
   "outputs": [],
   "source": [
    "if False:\n",
    "    data = np.loadtxt('rho_30dots_fix(1).dat')\n",
    "    rho_00_dot1 = data[:,0]\n",
    "    rho_01_dot1 = data[:,1] + 1j*data[:,2]\n",
    "\n",
    "    rho_00_dot2 = data[:,4]\n",
    "    rho_01_dot2 = data[:,5] + 1j*data[:,6]\n",
    "    \n",
    "    rho_00_dot3 = data[:,8]\n",
    "    rho_01_dot3 = data[:,9] + 1j*data[:,10]\n",
    "\n",
    "    rho_00_dot4 = data[:,12]\n",
    "    rho_01_dot4 = data[:,13] + 1j*data[:,14]\n",
    "    \n",
    "    rho_00_dot5 = data[:,16]\n",
    "    rho_01_dot5 = data[:,17] + 1j*data[:,18]\n",
    "\n",
    "    data = np.loadtxt('rho_2dots_dt5e-5_fix_nint.dat')\n",
    "    rho_00_dot1_nint = data[:,0]\n",
    "    rho_01_dot1_nint = data[:,1] + 1j*data[:,2]\n",
    "\n",
    "    rho_00_dot2_nint = data[:,4]\n",
    "    rho_01_dot2_nint = data[:,5] + 1j*data[:,6]\n",
    "    \n",
    "    data = np.loadtxt('dots30_configuration.txt')\n",
    "    x_coord = data[:,0]\n",
    "    y_coord = data[:,1]\n",
    "    z_coord = data[:,2]\n",
    "\n",
    "    np.savez('Elliot_30dot_data.npz',rho_00_dot1=rho_00_dot1,\n",
    "        rho_01_dot1=rho_01_dot1,\n",
    "        rho_00_dot2=rho_00_dot2,\n",
    "        rho_01_dot2=rho_01_dot2,\n",
    "        rho_00_dot3=rho_00_dot3,\n",
    "        rho_01_dot3=rho_01_dot3,\n",
    "        rho_00_dot4=rho_00_dot4,\n",
    "        rho_01_dot4=rho_01_dot4,\n",
    "        rho_00_dot5=rho_00_dot5,\n",
    "        rho_01_dot5=rho_01_dot5,\n",
    "        rho_00_dot1_nint=rho_00_dot1_nint,\n",
    "        rho_01_dot1_nint=rho_01_dot1_nint,\n",
    "        rho_00_dot2_nint=rho_00_dot2_nint,\n",
    "        rho_01_dot2_nint=rho_01_dot2_nint,\n",
    "             x_coord=x_coord,\n",
    "             y_coord=y_coord,\n",
    "             z_coord=z_coord)"
   ]
  },
  {
   "cell_type": "code",
   "execution_count": 3,
   "metadata": {},
   "outputs": [],
   "source": [
    "data = np.load('Elliot_30dot_data.npz')\n",
    "rho_00_dot1 = data['rho_00_dot1']\n",
    "rho_01_dot1 = data['rho_01_dot1']\n",
    "rho_00_dot2 = data['rho_00_dot2']\n",
    "rho_01_dot2 = data['rho_01_dot2']\n",
    "rho_00_dot3 = data['rho_00_dot3']\n",
    "rho_01_dot3 = data['rho_01_dot3']\n",
    "rho_00_dot4 = data['rho_00_dot4']\n",
    "rho_01_dot4 = data['rho_01_dot4']\n",
    "rho_00_dot5 = data['rho_00_dot5']\n",
    "rho_01_dot5 = data['rho_01_dot5']\n",
    "rho_00_dot1_nint = data['rho_00_dot1_nint']\n",
    "rho_01_dot1_nint = data['rho_01_dot1_nint']\n",
    "rho_00_dot2_nint = data['rho_00_dot2_nint']\n",
    "rho_01_dot2_nint = data['rho_01_dot2_nint']\n",
    "x_coord = data['x_coord']\n",
    "y_coord = data['y_coord']\n",
    "z_coord = data['z_coord']"
   ]
  },
  {
   "cell_type": "code",
   "execution_count": 4,
   "metadata": {},
   "outputs": [],
   "source": [
    "@contextmanager\n",
    "def timer(prefix=None):\n",
    "    t_start = time()\n",
    "    yield\n",
    "    t_end = time()\n",
    "    t = t_end - t_start\n",
    "    \n",
    "    minutes = np.floor(t / 60)\n",
    "    seconds = t % 60\n",
    "    if prefix is None:\n",
    "        print(minutes,'minutes',seconds,'seconds')\n",
    "        \n",
    "    else:\n",
    "        print(prefix+':',minutes,'minutes',seconds,'seconds')"
   ]
  },
  {
   "cell_type": "code",
   "execution_count": 5,
   "metadata": {},
   "outputs": [],
   "source": [
    "def get_uvw(rho_00,rho_01):\n",
    "    u = 2*rho_01.real\n",
    "    v = 2*rho_01.imag\n",
    "    w = 1-2*rho_00\n",
    "    return u,v,w"
   ]
  },
  {
   "cell_type": "code",
   "execution_count": 6,
   "metadata": {},
   "outputs": [],
   "source": [
    "u1_elliot,v1_elliot,w1_elliot = get_uvw(rho_00_dot1,rho_01_dot1)\n",
    "u2_elliot,v2_elliot,w2_elliot = get_uvw(rho_00_dot2,rho_01_dot2)\n",
    "u3_elliot,v3_elliot,w3_elliot = get_uvw(rho_00_dot3,rho_01_dot3)\n",
    "u4_elliot,v4_elliot,w4_elliot = get_uvw(rho_00_dot4,rho_01_dot4)\n",
    "u5_elliot,v5_elliot,w5_elliot = get_uvw(rho_00_dot5,rho_01_dot5)\n",
    "\n",
    "u1_elliot_nint,v1_elliot_nint,w1_elliot_nint = get_uvw(rho_00_dot1_nint,rho_01_dot1_nint)\n",
    "u2_elliot_nint,v2_elliot_nint,w2_elliot_nint = get_uvw(rho_00_dot2_nint,rho_01_dot2_nint)\n",
    "\n",
    "t_elliot = np.linspace(0,10,u1_elliot.size)"
   ]
  },
  {
   "cell_type": "code",
   "execution_count": 7,
   "metadata": {},
   "outputs": [],
   "source": [
    "def compare_frequency_spectra_solutions(signal_t_1,signal_t_2,t,minimum_f=None,maximum_f=None,sol=' Guess',vline=False):\n",
    "    #plots the freq spec for a given signal.  minimum_f and maximum_f must be in Hz. signal is the variable name\n",
    "    stop_time = t[-1]\n",
    "    dt = stop_time/t.size\n",
    "    \n",
    "    Signal_w_1 = np.fft.fftshift(np.fft.fft(signal_t_1))\n",
    "    Signal_w_2 = np.fft.fftshift(np.fft.fft(signal_t_2))\n",
    "    freq = np.fft.fftshift(np.fft.fftfreq(signal_t_1.size,dt))\n",
    "\n",
    "   \n",
    "    plt.figure()\n",
    "    plt.semilogy(freq,abs(Signal_w_1),label='Chad'+sol)\n",
    "    plt.semilogy(freq,abs(Signal_w_2),label='Elliot Solution')\n",
    "    if vline == True:\n",
    "        for frequency in omega_k/(2*np.pi):\n",
    "            plt.axvline(frequency,c='k')\n",
    "    plt.legend()\n",
    "    plt.grid()\n",
    "    plt.xlabel('Linear Frequency')\n",
    "    plt.xlim(minimum_f,maximum_f)\n",
    "    plt.ylabel('|Magnitude|')\n",
    "\n",
    "    plt.figure()\n",
    "    plt.plot(freq,np.angle(Signal_w_1,deg=True),label='Chad'+sol)\n",
    "    plt.plot(freq,np.angle(Signal_w_2,deg=True),label='Elliots Solution')\n",
    "    if vline == True:\n",
    "        for frequency in omega_k/(2*np.pi):\n",
    "            plt.axvline(frequency,c='k')\n",
    "    plt.ylabel('Phase (degrees)')\n",
    "    plt.xlabel('Linear Frequency')\n",
    "    plt.xlim(minimum_f,maximum_f)\n",
    "    plt.legend()"
   ]
  },
  {
   "cell_type": "code",
   "execution_count": 8,
   "metadata": {},
   "outputs": [],
   "source": [
    "#General Parameters\n",
    "num_dots = 2\n",
    "omega_0 = 2278.9013 # in rad/picosecond\n",
    "period = 2*np.pi/omega_0\n",
    "f0 = omega_0 / (2*np.pi)\n",
    "\n",
    "stop_time = 10 #in picoseconds\n",
    "\n",
    "#Dot parameters\n",
    "sigma = 2278.9013\n",
    "t0 = 0.0\n",
    "hbar = 0.65821193\n",
    "T1 = 1e6\n",
    "T2 = 2e6\n",
    "x_coord = np.array([0.0,0.0])\n",
    "y_coord = np.array([-0.00175,0.00175])\n",
    "z_coord = x_coord\n",
    "\n",
    "#Misc Parameters\n",
    "x_hat = np.array([1,0,0])\n",
    "y_hat = np.array([0,1,0])\n",
    "r_hat_dot1 = np.array([0,1,0])\n",
    "r_hat_dot2 = np.array([0,-1,0])\n",
    "\n",
    "c0 = 299.792458 #um/ps\n",
    "mu0 = 2.0133545e-04\n",
    "eps0 = 1/(mu0*c0**2)\n",
    "d = 5.2917721e-4\n",
    "d_vector = d*x_hat\n",
    "E0 = 1558.8929\n",
    "\n",
    "omega_r = d*E0/hbar\n",
    "# f_r = 2.2669\n",
    "#omega_r = 2*np.pi*f_r"
   ]
  },
  {
   "cell_type": "code",
   "execution_count": 9,
   "metadata": {},
   "outputs": [
    {
     "name": "stdout",
     "output_type": "stream",
     "text": [
      "Solving 41 frequencies\n",
      "Solving 41 coefficients per signal\n",
      "Solving 246 degrees of freedom\n"
     ]
    }
   ],
   "source": [
    "delta_f = 0.1\n",
    "delta_omega = 2*np.pi*delta_f\n",
    "B = 4\n",
    "C = 6\n",
    "i = np.arange(-B,B+1)\n",
    "j = np.arange(-B,B+1)\n",
    "k = np.arange(-C,C+1)\n",
    "\n",
    "i,j = np.meshgrid(i,j)\n",
    "ij_sum_abs = abs(i) + abs(j)\n",
    "ij = ij_sum_abs<=B\n",
    "i = i[ij]\n",
    "j = j[ij]\n",
    "#k = k[ij]\n",
    "\n",
    "omega_k = i * omega_0 + j * omega_r\n",
    "omega_k = np.sort(omega_k)\n",
    "omega_k = np.unique(omega_k)\n",
    "\n",
    "num_frequencies = omega_k.size\n",
    "num_coefficients = num_frequencies\n",
    "num_unknowns = num_dots*3*num_coefficients\n",
    "degrees_of_freedom_remaining = int(num_unknowns - 3*num_dots)\n",
    "num_tests = int(degrees_of_freedom_remaining / (3*num_dots))\n",
    "print('Solving',num_frequencies,'frequencies')\n",
    "print('Solving',num_coefficients,'coefficients per signal')\n",
    "print('Solving',num_unknowns,'degrees of freedom')"
   ]
  },
  {
   "cell_type": "code",
   "execution_count": 10,
   "metadata": {},
   "outputs": [],
   "source": [
    "Rx = x_coord[:,np.newaxis] - x_coord[:,np.newaxis].T\n",
    "Ry = y_coord[:,np.newaxis] - y_coord[:,np.newaxis].T\n",
    "Rz = z_coord[:,np.newaxis] - z_coord[:,np.newaxis].T\n",
    "\n",
    "dots_to_R = np.sqrt(Rx**2 + Ry**2 + Rz**2)\n",
    "Rdiag = np.diag(np.ones(x_coord.size))\n",
    "\n",
    "dots_to_R += Rdiag\n",
    "dots_to_R_vector = np.concatenate((Rx[:,:,np.newaxis],Ry[:,:,np.newaxis],Rz[:,:,np.newaxis]),axis = 2)\n",
    "rhats = dots_to_R_vector / dots_to_R[:,:,np.newaxis]"
   ]
  },
  {
   "cell_type": "code",
   "execution_count": 11,
   "metadata": {},
   "outputs": [],
   "source": [
    "dots = np.arange(num_dots)\n",
    "rec_to_rad = np.zeros((num_dots,num_dots),dtype=int)\n",
    "for dot in rec_to_rad:\n",
    "    dot += dots\n",
    "for i,rec in enumerate(rec_to_rad):\n",
    "    for j,rad in enumerate(rec):\n",
    "        if i==j:\n",
    "            rec_to_rad[i,j] = -1\n",
    "rec_to_rad = np.sort(rec_to_rad)\n",
    "rec_to_rad = rec_to_rad[:,1:]"
   ]
  },
  {
   "cell_type": "code",
   "execution_count": 12,
   "metadata": {},
   "outputs": [],
   "source": [
    "def get_gamma(t):\n",
    "    #Creates a matrix of trigonometric basis functions\n",
    "    return np.exp(1j*omega_k*t[:,np.newaxis])"
   ]
  },
  {
   "cell_type": "code",
   "execution_count": 13,
   "metadata": {},
   "outputs": [],
   "source": [
    "def get_gamma_t0(t0):\n",
    "    #Creates a matrix of trigonometric basis functions evaluated at an instant in time, t0\n",
    "    #Used for enforcing initial conditions in the Newton Solver\n",
    "    return np.exp(1j*omega_k*t0)"
   ]
  },
  {
   "cell_type": "code",
   "execution_count": 14,
   "metadata": {},
   "outputs": [],
   "source": [
    "def get_gamma_prime(t):\n",
    "    #Creates a matrix of derivatives of trig basis functions\n",
    "    return 1j*omega_k*np.exp(1j*omega_k*t[:,np.newaxis])"
   ]
  },
  {
   "cell_type": "code",
   "execution_count": 15,
   "metadata": {},
   "outputs": [],
   "source": [
    "def get_gamma_double_prime(t):\n",
    "    #Second derivative matrix\n",
    "    return -omega_k**2*np.exp(1j*omega_k*t[:,np.newaxis])"
   ]
  },
  {
   "cell_type": "code",
   "execution_count": 16,
   "metadata": {},
   "outputs": [],
   "source": [
    "def get_rhos(u,v,w):\n",
    "    rho_00 = 0.5 - 0.5*w\n",
    "    rho_01 = 0.5*u + 0.5j*v\n",
    "    return rho_00, rho_01"
   ]
  },
  {
   "cell_type": "code",
   "execution_count": 17,
   "metadata": {},
   "outputs": [],
   "source": [
    "def get_P(u_coeff,v_coeff,w_coeff,t,R):\n",
    "    #Evaluates the polarization\n",
    "    delay = t - (R/c0)\n",
    "    gamma_delay = get_gamma(delay)\n",
    "    \n",
    "    u_delay = gamma_delay@u_coeff\n",
    "    v_delay = gamma_delay@v_coeff\n",
    "    w_delay = gamma_delay@w_coeff\n",
    "    \n",
    "    rho_00_delay,rho_01_delay = get_rhos(u_delay,v_delay,w_delay)\n",
    "    \n",
    "    P = 2*(rho_01_delay.real)*d_vector[:,np.newaxis]\n",
    "    \n",
    "    return P"
   ]
  },
  {
   "cell_type": "code",
   "execution_count": 18,
   "metadata": {},
   "outputs": [],
   "source": [
    "def get_P_prime(u_coeff,v_coeff,w_coeff,t,R):\n",
    "    delay = t - (R/c0)\n",
    "    gamma_prime_delay = get_gamma_prime(delay)\n",
    "    u_prime_delay = gamma_prime_delay@u_coeff\n",
    "    v_prime_delay = gamma_prime_delay@v_coeff\n",
    "    w_prime_delay = gamma_prime_delay@w_coeff\n",
    "    \n",
    "    rho_00_prime_delay,rho_01_prime_delay = get_rhos(u_prime_delay,v_prime_delay,w_prime_delay)\n",
    "    P_prime = 2*(rho_01_prime_delay.real)*d_vector[:,np.newaxis]\n",
    "    \n",
    "    return P_prime"
   ]
  },
  {
   "cell_type": "code",
   "execution_count": 19,
   "metadata": {},
   "outputs": [],
   "source": [
    "def get_P_doubleprime(u_coeff,v_coeff,w_coeff,t,R):\n",
    "    delay = t - (R/c0)\n",
    "    gamma_doubleprime = get_gamma_double_prime(delay)\n",
    "    u_doubleprime_delay = gamma_doubleprime@u_coeff\n",
    "    v_doubleprime_delay = gamma_doubleprime@v_coeff\n",
    "    w_doubleprime_delay = gamma_doubleprime@w_coeff\n",
    "    \n",
    "    rho_00_doubleprime_delay,rho_01_doubleprime_delay = get_rhos(u_doubleprime_delay,v_doubleprime_delay,w_doubleprime_delay)\n",
    "    P_doubleprime = 2*(rho_01_doubleprime_delay.real)*d_vector[:,np.newaxis]\n",
    "    \n",
    "    return P_doubleprime"
   ]
  },
  {
   "cell_type": "code",
   "execution_count": 20,
   "metadata": {},
   "outputs": [],
   "source": [
    "def get_E_rad(u_coeff,v_coeff,w_coeff,t,r_hat,R):\n",
    "    #Evaluates the radiation field from one dot onto another\n",
    "    P = get_P(u_coeff,v_coeff,w_coeff,t,R)\n",
    "    P_prime = get_P_prime(u_coeff,v_coeff,w_coeff,t,R)\n",
    "    P_doubleprime = get_P_doubleprime(u_coeff,v_coeff,w_coeff,t,R)\n",
    "    \n",
    "    I = np.eye(3)\n",
    "    \n",
    "    E_rad = np.dot(I - np.outer(r_hat,r_hat),P_doubleprime/(c0**2*R))\n",
    "    \n",
    "    E_rad += np.dot(I-3*np.outer(r_hat,r_hat),P_prime/(c0*R**2))\n",
    "\n",
    "    E_rad += np.dot(I-3*np.outer(r_hat,r_hat),P/(R**3))\n",
    "    \n",
    "    E_rad *= -1/(4*np.pi*eps0)\n",
    "    \n",
    "\n",
    "    return E_rad"
   ]
  },
  {
   "cell_type": "code",
   "execution_count": 21,
   "metadata": {},
   "outputs": [],
   "source": [
    "t_k = np.linspace(0,1000*stop_time,num_coefficients - 1)"
   ]
  },
  {
   "cell_type": "code",
   "execution_count": 22,
   "metadata": {},
   "outputs": [],
   "source": [
    "def get_Jacobian_Block(coefficients,rec_dot,t):\n",
    "    gamma_t = get_gamma(t)\n",
    "    \n",
    "    u = gamma_t@coefficients[:,3*rec_dot]\n",
    "    v = gamma_t@coefficients[:,3*rec_dot+1]\n",
    "    w = gamma_t@coefficients[:,3*rec_dot+2]\n",
    "    \n",
    "    chi = get_chi(rec_dot,coefficients,t_k)\n",
    "    df1_dDu = -1j*omega_k*np.exp(1j*omega_k*t[:,np.newaxis])\n",
    "    df1_dDv = -omega_0*np.exp(1j*omega_k*t[:,np.newaxis])\n",
    "    df1_dDw = np.zeros_like(df1_dDv)\n",
    "    grad_f1 = np.hstack((df1_dDu,df1_dDv,df1_dDw))\n",
    "    \n",
    "    df2_dDu = omega_0*np.exp(1j*omega_k*t[:,np.newaxis])\n",
    "    df2_dDv = -1j*omega_k*np.exp(1j*omega_k*t[:,np.newaxis])\n",
    "    df2_dDw = -2*chi[:,np.newaxis]*np.exp(1j*omega_k*t[:,np.newaxis])\n",
    "    grad_f2 = np.hstack((df2_dDu,df2_dDv,df2_dDw))\n",
    "    \n",
    "    df3_dDu = np.zeros_like(df1_dDu)\n",
    "    df3_dDv = 2*chi[:,np.newaxis]*np.exp(1j*omega_k*t[:,np.newaxis])\n",
    "    df3_dDw = -1j*omega_k*np.exp(1j*omega_k*t[:,np.newaxis])\n",
    "    grad_f3 = np.hstack((df3_dDu,df3_dDv,df3_dDw))\n",
    "    \n",
    "    df4_dDu = np.ones(omega_k.size)[:,np.newaxis].T\n",
    "    df4_dDv = np.zeros_like(df4_dDu)\n",
    "    df4_dDw = np.zeros_like(df4_dDu)\n",
    "    grad_f4 = np.hstack((df4_dDu,df4_dDv,df4_dDw))\n",
    "    \n",
    "    df5_dDu = np.zeros_like(df4_dDu)\n",
    "    df5_dDv = np.ones_like(df4_dDu)\n",
    "    df5_dDw = np.zeros_like(df4_dDu)\n",
    "    grad_f5 = np.hstack((df5_dDu,df5_dDv,df5_dDw))\n",
    "    \n",
    "    df6_dDu = np.zeros_like(df4_dDu)\n",
    "    df6_dDv = np.zeros_like(df4_dDv)\n",
    "    df6_dDw = np.ones_like(df4_dDw)\n",
    "    grad_f6 = np.hstack((df6_dDu,df6_dDv,df6_dDw))\n",
    "    \n",
    "    Jacobian_Block = np.vstack((grad_f1,grad_f2,grad_f3,grad_f4,grad_f5,grad_f6))\n",
    " \n",
    "    return Jacobian_Block"
   ]
  },
  {
   "cell_type": "code",
   "execution_count": 23,
   "metadata": {},
   "outputs": [],
   "source": [
    "def get_Jacobian(coefficients,t):\n",
    "    dummy_block = np.zeros((3*t.size+3,3*num_frequencies))\n",
    "    dummy_gradient = np.zeros((3*t.size+3,3*num_dots*num_frequencies))\n",
    "    Jacobian = np.hstack((dummy_block,dummy_gradient))\n",
    "    for rec_dot in range(num_dots):\n",
    "    \n",
    "        grad_rec_dot = dummy_block\n",
    "        for dot in range(num_dots):\n",
    "            \n",
    "            if dot==rec_dot:\n",
    "                grad_rec_dot = np.hstack((grad_rec_dot,get_Jacobian_Block(coefficients,dot,t)))\n",
    "            else:\n",
    "                grad_rec_dot = np.hstack((grad_rec_dot,dummy_block))\n",
    "                  \n",
    "        Jacobian = np.vstack((Jacobian,grad_rec_dot))\n",
    "    \n",
    "    Jacobian = Jacobian[(3*t.size + 3):,3*num_frequencies:]\n",
    "    return Jacobian"
   ]
  },
  {
   "cell_type": "code",
   "execution_count": 24,
   "metadata": {},
   "outputs": [],
   "source": [
    "def plot_error(t,f1,f2,f3,f4,f5,f6):\n",
    "    plt.figure()\n",
    "    plt.semilogy(t,abs(f1),label='f1')\n",
    "    plt.semilogy(t,abs(f2),label='f2')\n",
    "    plt.semilogy(t,abs(f3),label='f3')\n",
    "    plt.legend()\n",
    "    plt.show()"
   ]
  },
  {
   "cell_type": "code",
   "execution_count": 25,
   "metadata": {},
   "outputs": [],
   "source": [
    "def get_radiated_fields(coeff,dot_number,t):\n",
    "    E = np.zeros_like(get_E_rad(coeff[:,0],coeff[:,1],coeff[:,2],t,rhats[0,0,:],dots_to_R[0,1]))\n",
    "    for rad_dot in rec_to_rad[dot_number,:]:\n",
    "        E += get_E_rad(coeff[:,3*dot_number],coeff[:,3*dot_number+1],coeff[:,3*dot_number+2],t,rhats[dot_number,rad_dot,:],dots_to_R[dot_number,rad_dot])\n",
    "    return E"
   ]
  },
  {
   "cell_type": "code",
   "execution_count": 26,
   "metadata": {},
   "outputs": [],
   "source": [
    "def get_chi(rec_dot,coeff,t=t_k):\n",
    "    wave_vector = x_hat\n",
    "    r = x_hat*0.0\n",
    "    args = np.dot(wave_vector,r) - omega_0*(t-t0)\n",
    "    \n",
    "    #pulse = np.exp(omega_0*(t - t0)**2/(2*sigma**2))\n",
    "    #pulse = 0\n",
    "    pulse = 1\n",
    "    El = (E0*np.cos(args)*pulse)*x_hat[:,np.newaxis]\n",
    "    \n",
    "    E_rad = get_radiated_fields(coeff,rec_dot,t)\n",
    "    \n",
    "    E = El + E_rad\n",
    "    chi = np.dot(d_vector,E) / hbar\n",
    "    \n",
    "    return chi"
   ]
  },
  {
   "cell_type": "code",
   "execution_count": 27,
   "metadata": {},
   "outputs": [],
   "source": [
    "def get_dot_error(coeff,dot_number,t=t_k):\n",
    "    gamma_t = get_gamma(t)\n",
    "    gamma_prime = get_gamma_prime(t)\n",
    "    gamma_0 = get_gamma_t0(0)\n",
    "    \n",
    "    chi = get_chi(dot_number,coeff,t)\n",
    "    \n",
    "    u = gamma_t@coeff[:,3*dot_number]\n",
    "    v = gamma_t@coeff[:,3*dot_number+1]\n",
    "    w = gamma_t@coeff[:,3*dot_number+2]\n",
    "    \n",
    "    u_prime = gamma_prime@coeff[:,3*dot_number]\n",
    "    v_prime = gamma_prime@coeff[:,3*dot_number+1]\n",
    "    w_prime = gamma_prime@coeff[:,3*dot_number+2]\n",
    "    \n",
    "    u_0 = gamma_0@coeff[:,3*dot_number]\n",
    "    v_0 = gamma_0@coeff[:,3*dot_number+1]\n",
    "    w_0 = gamma_0@coeff[:,3*dot_number+2]\n",
    "    \n",
    "    f1 = -omega_0*v - u_prime\n",
    "    f2 = omega_0*u - 2*chi*w - v_prime\n",
    "    f3 = 2*chi*v - w_prime\n",
    "    f4 = u_0\n",
    "    f5 = v_0\n",
    "    f6 = w_0 + 1\n",
    "    \n",
    "    return np.hstack((f1,f2,f3,f4,f5,f6))"
   ]
  },
  {
   "cell_type": "code",
   "execution_count": 28,
   "metadata": {},
   "outputs": [],
   "source": [
    "def get_system_error(coeff,t=t_k):\n",
    "    fk = np.zeros(1)\n",
    "    for dot in range(num_dots):\n",
    "        f = get_dot_error(coeff,dot,t)\n",
    "        fk = np.hstack((fk,f))\n",
    "    fk = fk[1:]\n",
    "    return fk"
   ]
  },
  {
   "cell_type": "code",
   "execution_count": 29,
   "metadata": {},
   "outputs": [],
   "source": [
    "def Newton(coeff_guess,t=t_k,eps=1e-8):\n",
    "    max_iteration = 100000\n",
    "    fk = get_system_error(coeff_guess,t)\n",
    "    coeff = coeff_guess\n",
    "\n",
    "    for iteration in range(max_iteration):\n",
    "        print('iteration:',iteration,'f mean',np.mean(abs(fk)),'f max',np.max(abs(fk)))\n",
    "        if np.mean(abs(fk))<eps:\n",
    "            print('Converged after',iteration,'iterations')\n",
    "            return coeff\n",
    "        with timer(prefix='get_Jacobian'):\n",
    "            Jacobian = get_Jacobian(coeff,t)\n",
    "        delta_coeff = linalg.solve(Jacobian,fk)\n",
    "        print('Jacobian Rank',np.linalg.matrix_rank(Jacobian),'Num unknowns',fk.size)\n",
    "        coefficients = np.ravel(coeff.T)\n",
    "        coefficients -= delta_coeff\n",
    "        coeff = np.reshape(coefficients,(coeff.shape[1],coeff.shape[0])).T\n",
    "    \n",
    "        fk = get_system_error(coeff,t)\n",
    "        \n",
    "    print('Exceeded Maximum Iterations')"
   ]
  },
  {
   "cell_type": "code",
   "execution_count": 30,
   "metadata": {},
   "outputs": [],
   "source": [
    "gamma = get_gamma(t_elliot)\n",
    "\n",
    "sol1 = np.vstack((u1_elliot_nint,v1_elliot_nint,w1_elliot_nint))\n",
    "sol2 = np.vstack((u2_elliot_nint,v2_elliot_nint,w2_elliot_nint))\n",
    "sol3 = np.vstack((u1_elliot_nint,v1_elliot_nint,w1_elliot_nint))\n",
    "sol4 = np.vstack((u2_elliot_nint,v2_elliot_nint,w2_elliot_nint))\n",
    "sol5 = np.vstack((u2_elliot_nint,v2_elliot_nint,w2_elliot_nint))\n",
    "\n",
    "sol = np.vstack((sol1,sol2,sol3,sol4,sol5,sol5))\n",
    "\n",
    "b = np.vstack((sol,sol,sol,sol,sol)).T\n",
    "\n",
    "b = np.vstack((u1_elliot_nint,v1_elliot_nint,w1_elliot_nint,u2_elliot_nint,v2_elliot_nint,w2_elliot_nint)).T\n",
    "\n",
    "x = linalg.solve(gamma.T@gamma,gamma.T@b)"
   ]
  },
  {
   "cell_type": "code",
   "execution_count": 31,
   "metadata": {},
   "outputs": [],
   "source": [
    "coefficients_guess = x"
   ]
  },
  {
   "cell_type": "code",
   "execution_count": 32,
   "metadata": {},
   "outputs": [],
   "source": [
    "time_guess = gamma@x\n",
    "\n",
    "u1_guess = time_guess[:,0].real\n",
    "v1_guess = time_guess[:,1].real\n",
    "w1_guess = time_guess[:,2].real\n",
    "\n",
    "u2_guess = time_guess[:,3].real\n",
    "v2_guess = time_guess[:,4].real\n",
    "w2_guess = time_guess[:,5].real"
   ]
  },
  {
   "cell_type": "code",
   "execution_count": 45,
   "metadata": {},
   "outputs": [
    {
     "data": {
      "image/png": "[encoded data removed]",
      "text/plain": [
       "<Figure size 432x288 with 1 Axes>"
      ]
     },
     "metadata": {
      "needs_background": "light"
     },
     "output_type": "display_data"
    }
   ],
   "source": [
    "plt.figure()\n",
    "plt.plot(t_elliot,u1_elliot_nint,label='u1 elliot')\n",
    "plt.plot(t_elliot,u1_guess,label='u1 chad')\n",
    "#plt.xlim(0,0.01)\n",
    "plt.legend()\n",
    "plt.show()"
   ]
  },
  {
   "cell_type": "code",
   "execution_count": 34,
   "metadata": {},
   "outputs": [],
   "source": [
    "u1_error = linalg.norm(u1_guess - u1_elliot_nint) / linalg.norm(u1_elliot_nint)\n",
    "w1_error = linalg.norm(w1_guess - w1_elliot_nint) / linalg.norm(w1_elliot_nint)"
   ]
  },
  {
   "cell_type": "code",
   "execution_count": 35,
   "metadata": {},
   "outputs": [
    {
     "name": "stdout",
     "output_type": "stream",
     "text": [
      "0.028604211709997072 1.9349901977665515e-05\n"
     ]
    }
   ],
   "source": [
    "print(u1_error,w1_error)"
   ]
  },
  {
   "cell_type": "code",
   "execution_count": 36,
   "metadata": {},
   "outputs": [
    {
     "data": {
      "image/png": "[encoded data removed]",
      "text/plain": [
       "<Figure size 432x288 with 1 Axes>"
      ]
     },
     "metadata": {
      "needs_background": "light"
     },
     "output_type": "display_data"
    },
    {
     "data": {
      "image/png": "[encoded data removed]",
      "text/plain": [
       "<Figure size 432x288 with 1 Axes>"
      ]
     },
     "metadata": {
      "needs_background": "light"
     },
     "output_type": "display_data"
    }
   ],
   "source": [
    "compare_frequency_spectra_solutions(w1_guess,w1_elliot_nint,t_elliot)"
   ]
  },
  {
   "cell_type": "code",
   "execution_count": 37,
   "metadata": {},
   "outputs": [
    {
     "name": "stdout",
     "output_type": "stream",
     "text": [
      "iteration: 0 f mean 0.8899846882663137 f max 3.858729219407877\n",
      "get_Jacobian: 0.0 minutes 0.01000070571899414 seconds\n",
      "Jacobian Rank 246 Num unknowns 246\n",
      "iteration: 1 f mean 1.2791511216269181e-12 f max 6.571938117245143e-12\n",
      "Converged after 1 iterations\n",
      "0.0 minutes 0.042000532150268555 seconds\n"
     ]
    }
   ],
   "source": [
    "with timer():\n",
    "    coeff = Newton(coefficients_guess,t_k,eps=1e-6)"
   ]
  },
  {
   "cell_type": "code",
   "execution_count": 38,
   "metadata": {},
   "outputs": [
    {
     "name": "stdout",
     "output_type": "stream",
     "text": [
      "3.98170684650197e-12\n",
      "3.983259264513014e-12\n",
      "8.867271319917398e-12\n"
     ]
    }
   ],
   "source": [
    "u1_sol = gamma@coeff[:,0]\n",
    "v1_sol = gamma@coeff[:,1]\n",
    "w1_sol = gamma@coeff[:,2]\n",
    "print(np.max(abs(u1_sol.imag)))\n",
    "print(np.max(abs(v1_sol.imag)))\n",
    "print(np.max(abs(w1_sol.imag)))"
   ]
  },
  {
   "cell_type": "code",
   "execution_count": 39,
   "metadata": {},
   "outputs": [
    {
     "data": {
      "image/png": "[encoded data removed]",
      "text/plain": [
       "<Figure size 432x288 with 1 Axes>"
      ]
     },
     "metadata": {
      "needs_background": "light"
     },
     "output_type": "display_data"
    }
   ],
   "source": [
    "plt.figure()\n",
    "plt.plot(t_elliot,u1_sol.real,label='chad')\n",
    "plt.plot(t_elliot,u1_elliot_nint,label='Elliot')\n",
    "plt.xlim(0,0.05)\n",
    "plt.legend()\n",
    "plt.show()"
   ]
  },
  {
   "cell_type": "code",
   "execution_count": 40,
   "metadata": {},
   "outputs": [
    {
     "data": {
      "image/png": "[encoded data removed]",
      "text/plain": [
       "<Figure size 432x288 with 1 Axes>"
      ]
     },
     "metadata": {
      "needs_background": "light"
     },
     "output_type": "display_data"
    }
   ],
   "source": [
    "plt.figure()\n",
    "plt.plot(t_elliot,v1_sol.real,label='chad')\n",
    "plt.plot(t_elliot,v1_elliot_nint,label='Elliot nint')\n",
    "#plt.plot(t_elliot,v1_elliot,label='Elliot')\n",
    "plt.xlim(0,0.05)\n",
    "plt.legend()\n",
    "plt.show()"
   ]
  },
  {
   "cell_type": "code",
   "execution_count": 41,
   "metadata": {},
   "outputs": [
    {
     "name": "stdout",
     "output_type": "stream",
     "text": [
      "0.2683741078502731\n"
     ]
    }
   ],
   "source": [
    "nint_error = linalg.norm(u1_elliot - u1_elliot_nint) / linalg.norm(u1_elliot_nint)\n",
    "print(nint_error)"
   ]
  },
  {
   "cell_type": "code",
   "execution_count": 42,
   "metadata": {},
   "outputs": [
    {
     "data": {
      "image/png": "[encoded data removed]",
      "text/plain": [
       "<Figure size 432x288 with 1 Axes>"
      ]
     },
     "metadata": {
      "needs_background": "light"
     },
     "output_type": "display_data"
    }
   ],
   "source": [
    "plt.figure()\n",
    "plt.plot(t_elliot,w1_sol.real,label='chad')\n",
    "plt.plot(t_elliot,w1_elliot_nint,label='Elliot')\n",
    "#plt.xlim(0.3,0.5)\n",
    "plt.legend()\n",
    "plt.show()"
   ]
  },
  {
   "cell_type": "code",
   "execution_count": 43,
   "metadata": {},
   "outputs": [
    {
     "data": {
      "image/png": "[encoded data removed]",
      "text/plain": [
       "<Figure size 432x288 with 1 Axes>"
      ]
     },
     "metadata": {
      "needs_background": "light"
     },
     "output_type": "display_data"
    },
    {
     "data": {
      "image/png": "[encoded data removed]",
      "text/plain": [
       "<Figure size 432x288 with 1 Axes>"
      ]
     },
     "metadata": {
      "needs_background": "light"
     },
     "output_type": "display_data"
    }
   ],
   "source": [
    "compare_frequency_spectra_solutions(u1_sol,u1_elliot_nint,t_elliot)"
   ]
  },
  {
   "cell_type": "code",
   "execution_count": 44,
   "metadata": {},
   "outputs": [
    {
     "name": "stdout",
     "output_type": "stream",
     "text": [
      "1.589804859282108\n"
     ]
    }
   ],
   "source": [
    "solution_error = linalg.norm(u1_sol - u1_elliot_nint) / linalg.norm(u1_elliot_nint)\n",
    "print(solution_error)"
   ]
  },
  {
   "cell_type": "code",
   "execution_count": null,
   "metadata": {},
   "outputs": [],
   "source": []
  }
 ],
 "metadata": {
  "kernelspec": {
   "display_name": "Python 3",
   "language": "python",
   "name": "python3"
  },
  "language_info": {
   "codemirror_mode": {
    "name": "ipython",
    "version": 3
   },
   "file_extension": ".py",
   "mimetype": "text/x-python",
   "name": "python",
   "nbconvert_exporter": "python",
   "pygments_lexer": "ipython3",
   "version": "3.8.3"
  }
 },
 "nbformat": 4,
 "nbformat_minor": 4
}
