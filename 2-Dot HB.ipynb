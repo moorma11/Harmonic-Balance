{
 "cells": [
  {
   "cell_type": "code",
   "execution_count": null,
   "metadata": {},
   "outputs": [],
   "source": [
    "import numpy as np\n",
    "import mpmath \n",
    "import matplotlib.pyplot as plt\n",
    "from IPython.display import Audio\n",
    "import math as mth\n",
    "from time import time\n",
    "from contextlib import contextmanager\n",
    "from scipy import linalg, signal, constants, optimize"
   ]
  },
  {
   "cell_type": "code",
   "execution_count": null,
   "metadata": {},
   "outputs": [],
   "source": [
    "data = np.loadtxt('rho_2dots_dt5e-5_fix.dat')\n",
    "rho_00_dot1 = data[:,0]\n",
    "rho_01_dot1 = data[:,1] + 1j*data[:,2]\n",
    "\n",
    "rho_00_dot2 = data[:,4]\n",
    "rho_01_dot2 = data[:,5] + 1j*data[:,6]"
   ]
  },
  {
   "cell_type": "code",
   "execution_count": null,
   "metadata": {},
   "outputs": [],
   "source": [
    "data = np.loadtxt('rho_2dots_dt5e-5_fix_nint.dat')\n",
    "rho_00_dot1_nint = data[:,0]\n",
    "rho_01_dot1_nint = data[:,1] + 1j*data[:,2]\n",
    "\n",
    "rho_00_dot2_nint = data[:,4]\n",
    "rho_01_dot2_nint = data[:,5] + 1j*data[:,6]"
   ]
  },
  {
   "cell_type": "code",
   "execution_count": null,
   "metadata": {},
   "outputs": [],
   "source": [
    "data = np.loadtxt('chi_2dots_fix.dat')\n",
    "chi_rad_elliot = data[:,0]"
   ]
  },
  {
   "cell_type": "code",
   "execution_count": null,
   "metadata": {},
   "outputs": [],
   "source": [
    "@contextmanager\n",
    "def timer(prefix=None):\n",
    "    t_start = time()\n",
    "    yield\n",
    "    t_end = time()\n",
    "    t = t_end - t_start\n",
    "    \n",
    "    minutes = np.floor(t / 60)\n",
    "    seconds = t % 60\n",
    "    if prefix is None:\n",
    "        print(minutes,'minutes',seconds,'seconds')\n",
    "        \n",
    "    else:\n",
    "        print(prefix+':',minutes,'minutes',seconds,'seconds')\n",
    "        \n",
    "    return Audio('Ring.wav',autoplay=True)"
   ]
  },
  {
   "cell_type": "code",
   "execution_count": null,
   "metadata": {},
   "outputs": [],
   "source": [
    "def get_uvw(rho_00,rho_01):\n",
    "    u = 2*rho_01.real\n",
    "    v = 2*rho_01.imag\n",
    "    w = 1-2*rho_00\n",
    "    return u,v,w"
   ]
  },
  {
   "cell_type": "code",
   "execution_count": null,
   "metadata": {},
   "outputs": [],
   "source": [
    "u1_elliot,v1_elliot,w1_elliot = get_uvw(rho_00_dot1,rho_01_dot1)\n",
    "u2_elliot,v2_elliot,w2_elliot = get_uvw(rho_00_dot2,rho_01_dot2)\n",
    "\n",
    "u1_elliot_nint,v1_elliot_nint,w1_elliot_nint = get_uvw(rho_00_dot1_nint,rho_01_dot1_nint)\n",
    "u2_elliot_nint,v2_elliot_nint,w2_elliot_nint = get_uvw(rho_00_dot2_nint,rho_01_dot2_nint)\n",
    "\n",
    "t_elliot = np.linspace(0,10,u1_elliot.size)"
   ]
  },
  {
   "cell_type": "code",
   "execution_count": null,
   "metadata": {},
   "outputs": [],
   "source": [
    "def compare_frequency_spectra_solutions(signal_t_1,signal_t_2,t,minimum_f=-t_elliot.size/2,maximum_f=t_elliot.size/2,sol=' Guess'):\n",
    "    #plots the freq spec for a given signal.  minimum_f and maximum_f must be in Hz. signal is the variable name\n",
    "    stop_time = t[-1]\n",
    "    dt = stop_time/t.size\n",
    "    \n",
    "    Signal_w_1 = np.fft.fftshift(np.fft.fft(signal_t_1))\n",
    "    Signal_w_2 = np.fft.fftshift(np.fft.fft(signal_t_2))\n",
    "    freq = np.fft.fftshift(np.fft.fftfreq(signal_t_1.size,dt))\n",
    "    \n",
    "    min_nfreq = np.argmin(abs(minimum_f - freq))\n",
    "    max_nfreq = np.argmin(abs(maximum_f - freq))\n",
    "    \n",
    "#     plt.figure()\n",
    "#     plt.plot(t_elliot,phase_error,label='Phase error')\n",
    "#     plt.legend()\n",
    "   \n",
    "    plt.figure()\n",
    "    plt.semilogy(freq[min_nfreq:max_nfreq],abs(Signal_w_1)[min_nfreq:max_nfreq],label='Chad'+sol)\n",
    "\n",
    "    plt.semilogy(freq[min_nfreq:max_nfreq],abs(Signal_w_2)[min_nfreq:max_nfreq],label='Elliot Solution')\n",
    "    plt.legend()\n",
    "    plt.grid()\n",
    "    plt.xlabel('Linear Frequency')\n",
    "    plt.ylabel('|Magnitude|')\n",
    "\n",
    "    plt.figure()\n",
    "    \n",
    "    plt.plot(freq[min_nfreq:max_nfreq],np.angle(Signal_w_1,deg=True)[min_nfreq:max_nfreq],label='Chad'+sol)\n",
    "    plt.plot(freq[min_nfreq:max_nfreq],np.angle(Signal_w_2,deg=True)[min_nfreq:max_nfreq],label='Elliots Solution')\n",
    "    plt.ylabel('Phase (degrees)')\n",
    "    plt.xlabel('Linear Frequency')\n",
    "    plt.legend()\n",
    "    \n",
    "    plt.figure()\n",
    "    plt.scatter(omega_k/(2*np.pi),np.zeros_like(omega_k))\n",
    "    plt.xlim(minimum_f,maximum_f)\n",
    "    plt.show()"
   ]
  },
  {
   "cell_type": "code",
   "execution_count": null,
   "metadata": {},
   "outputs": [],
   "source": [
    "def compare_frequency_spectra_solutions(signal_t_1,signal_t_2,t,minimum_f=None,maximum_f=None,sol=' Guess'):\n",
    "    #plots the freq spec for a given signal.  minimum_f and maximum_f must be in Hz. signal is the variable name\n",
    "    stop_time = t[-1]\n",
    "    dt = stop_time/t.size\n",
    "    \n",
    "    Signal_w_1 = np.fft.fftshift(np.fft.fft(signal_t_1))\n",
    "    Signal_w_2 = np.fft.fftshift(np.fft.fft(signal_t_2))\n",
    "    freq = np.fft.fftshift(np.fft.fftfreq(signal_t_1.size,dt))\n",
    "\n",
    "   \n",
    "    plt.figure()\n",
    "    plt.semilogy(freq,abs(Signal_w_1),label='Chad'+sol)\n",
    "    plt.semilogy(freq,abs(Signal_w_2),label='Elliot Solution')\n",
    "    for frequency in omega_k/(2*np.pi):\n",
    "        plt.axvline(frequency,c='k')\n",
    "    plt.legend()\n",
    "    plt.grid()\n",
    "    plt.xlabel('Linear Frequency')\n",
    "    plt.xlim(minimum_f,maximum_f)\n",
    "    plt.ylabel('|Magnitude|')\n",
    "\n",
    "    plt.figure()\n",
    "    plt.plot(freq,np.angle(Signal_w_1,deg=True),label='Chad'+sol)\n",
    "    plt.plot(freq,np.angle(Signal_w_2,deg=True),label='Elliots Solution')\n",
    "    for frequency in omega_k/(2*np.pi):\n",
    "        plt.axvline(frequency,c='k')\n",
    "    plt.ylabel('Phase (degrees)')\n",
    "    plt.xlabel('Linear Frequency')\n",
    "    plt.xlim(minimum_f,maximum_f)\n",
    "    plt.legend()"
   ]
  },
  {
   "cell_type": "code",
   "execution_count": null,
   "metadata": {},
   "outputs": [],
   "source": [
    "#Define Constants\n",
    "\n",
    "#General Parameters\n",
    "omega_0 = 2278.9013 # in rad/picosecond\n",
    "period = 2*np.pi/omega_0\n",
    "f0 = omega_0 / (2*np.pi)\n",
    "\n",
    "stop_time = 10 #in picoseconds\n",
    "\n",
    "#Dot parameters\n",
    "sigma = 2278.9013\n",
    "t0 = 0.0\n",
    "hbar = 0.65821193\n",
    "T1 = 1e6\n",
    "T2 = 2e6\n",
    "x = np.array([0.0,0.0])\n",
    "y = np.array([-0.00175,0.00175])\n",
    "\n",
    "R = y[1] - y[0]\n",
    "#Misc Parameters\n",
    "x_hat = np.array([1,0,0])\n",
    "y_hat = np.array([0,1,0])\n",
    "r_hat_dot1 = np.array([0,1,0])\n",
    "r_hat_dot2 = np.array([0,-1,0])\n",
    "\n",
    "c0 = 299.792458 #um/ps\n",
    "mu0 = 2.0133545e-04\n",
    "eps0 = 1/(mu0*c0**2)\n",
    "print(eps0)\n",
    "d = 5.2917721e-4\n",
    "d_vector = d*x_hat\n",
    "E0 = 1558.8929\n",
    "\n",
    "#omega_r = d*E0/hbar #+ E_rad*5.2917721e-4/hbar \n",
    "f_r = 2.2669\n",
    "omega_r = 2*np.pi*f_r"
   ]
  },
  {
   "cell_type": "code",
   "execution_count": null,
   "metadata": {},
   "outputs": [],
   "source": [
    "delta_f = 0.5\n",
    "delta_omega = 2*np.pi*delta_f\n",
    "B = 4\n",
    "C = 4\n",
    "i = np.arange(B+1)\n",
    "j = np.arange(-B,B+1)\n",
    "k = np.arange(-C,C+1)\n",
    "\n",
    "i,j,k = np.meshgrid(i,j,k,indexing='ij')\n",
    "ij_sum_abs = abs(i) + abs(j)\n",
    "ij = ij_sum_abs<=B\n",
    "i = i[ij]\n",
    "j = j[ij]\n",
    "k = k[ij]\n",
    "\n",
    "omega_k = i * omega_0 + j * omega_r + k * delta_omega\n",
    "omega_k = np.unique(omega_k)\n",
    "\n",
    "#Remove negative frequencies for real signals \n",
    "omega_k = omega_k[omega_k>=0]\n",
    "omega_k = np.sort(omega_k)\n",
    "\n",
    "num_frequencies = omega_k.size\n",
    "num_coefficients = 2*num_frequencies - 1\n",
    "\n",
    "print('Solving',num_frequencies,'frequencies')\n",
    "print('Solving',3*num_coefficients,'coefficients')"
   ]
  },
  {
   "cell_type": "code",
   "execution_count": null,
   "metadata": {},
   "outputs": [],
   "source": [
    "def get_gamma(t,omega=omega_k):\n",
    "    #Creates a matrix of trigonometric basis functions\n",
    "    return np.hstack((np.cos(omega*t[:,np.newaxis]),np.sin(omega[1:]*t[:,np.newaxis])))"
   ]
  },
  {
   "cell_type": "code",
   "execution_count": null,
   "metadata": {},
   "outputs": [],
   "source": [
    "def get_gamma_t0(t0):\n",
    "    #Creates a matrix of trigonometric basis functions evaluated at an instant in time, t0\n",
    "    #Used for enforcing initial conditions in the Newton Solver\n",
    "    return np.hstack((np.cos(omega_k*t0),np.sin(omega_k[1:]*t0)))"
   ]
  },
  {
   "cell_type": "code",
   "execution_count": null,
   "metadata": {},
   "outputs": [],
   "source": [
    "def get_gamma_prime(t,omega=omega_k):\n",
    "    #Creates a matrix of derivatives of trig basis functions\n",
    "    return np.hstack((-omega*np.sin(omega*t[:,np.newaxis]),omega[1:]*np.cos(omega[1:]*t[:,np.newaxis])))"
   ]
  },
  {
   "cell_type": "code",
   "execution_count": null,
   "metadata": {},
   "outputs": [],
   "source": [
    "def get_gamma_double_prime(t,omega=omega_k):\n",
    "    #Second derivative matrix\n",
    "    return np.hstack((-omega**2*np.cos(omega*t[:,np.newaxis]),-omega[1:]**2*np.sin(omega[1:]*t[:,np.newaxis])))"
   ]
  },
  {
   "cell_type": "code",
   "execution_count": null,
   "metadata": {},
   "outputs": [],
   "source": [
    "def get_rhos(u,v,w):\n",
    "    rho_00 = 0.5 - 0.5*w\n",
    "    rho_01 = 0.5*u + 0.5j*v\n",
    "    return rho_00, rho_01"
   ]
  },
  {
   "cell_type": "code",
   "execution_count": null,
   "metadata": {},
   "outputs": [],
   "source": [
    "def get_P(u_coeff,v_coeff,w_coeff,t,omega=omega_k):\n",
    "    #Evaluates the polarization\n",
    "    delay = t - (R/c0)\n",
    "    gamma_delay = get_gamma(delay,omega)\n",
    "    u_delay = gamma_delay@u_coeff\n",
    "    v_delay = gamma_delay@v_coeff\n",
    "    w_delay = gamma_delay@w_coeff\n",
    "    \n",
    "    rho_00_delay,rho_01_delay = get_rhos(u_delay,v_delay,w_delay)\n",
    "    \n",
    "    P = 2*(rho_01_delay.real)*d_vector[:,np.newaxis]\n",
    "    \n",
    "    return P"
   ]
  },
  {
   "cell_type": "code",
   "execution_count": null,
   "metadata": {},
   "outputs": [],
   "source": [
    "def get_P_prime(u_coeff,v_coeff,w_coeff,t,omega=omega_k):\n",
    "    delay = t - (R/c0)\n",
    "    gamma_prime_delay = get_gamma_prime(delay,omega)\n",
    "    u_prime_delay = gamma_prime_delay@u_coeff\n",
    "    v_prime_delay = gamma_prime_delay@v_coeff\n",
    "    w_prime_delay = gamma_prime_delay@w_coeff\n",
    "    \n",
    "    rho_00_prime_delay,rho_01_prime_delay = get_rhos(u_prime_delay,v_prime_delay,w_prime_delay)\n",
    "    P_prime = 2*(rho_01_prime_delay.real)*d_vector[:,np.newaxis]\n",
    "    \n",
    "    return P_prime"
   ]
  },
  {
   "cell_type": "code",
   "execution_count": null,
   "metadata": {},
   "outputs": [],
   "source": [
    "def get_P_doubleprime(u_coeff,v_coeff,w_coeff,t,omega=omega_k):\n",
    "    delay = t - (R/c0)\n",
    "    gamma_doubleprime = get_gamma_double_prime(delay,omega)\n",
    "    u_doubleprime_delay = gamma_doubleprime@u_coeff\n",
    "    v_doubleprime_delay = gamma_doubleprime@v_coeff\n",
    "    w_doubleprime_delay = gamma_doubleprime@w_coeff\n",
    "    \n",
    "    rho_00_doubleprime_delay,rho_01_doubleprime_delay = get_rhos(u_doubleprime_delay,v_doubleprime_delay,w_doubleprime_delay)\n",
    "    P_doubleprime = 2*(rho_01_doubleprime_delay.real)*d_vector[:,np.newaxis]\n",
    "    \n",
    "    return P_doubleprime"
   ]
  },
  {
   "cell_type": "code",
   "execution_count": null,
   "metadata": {},
   "outputs": [],
   "source": [
    "def get_E_rad(u_coeff,v_coeff,w_coeff,t,r_hat):\n",
    "    #Evaluates the radiation field from one dot onto another.  In the 2-dot case R is a constant for both dots.\n",
    "    P = get_P(u_coeff,v_coeff,w_coeff,t)\n",
    "    P_prime = get_P_prime(u_coeff,v_coeff,w_coeff,t)\n",
    "    P_doubleprime = get_P_doubleprime(u_coeff,v_coeff,w_coeff,t)\n",
    "    \n",
    "    I = np.eye(3)\n",
    "    \n",
    "    E_rad = np.dot(I - np.outer(r_hat,r_hat),P_doubleprime/(c0**2*R))\n",
    "    \n",
    "    E_rad += np.dot(I-3*np.outer(r_hat,r_hat),P_prime/(c0*R**2))\n",
    "\n",
    "    E_rad += np.dot(I-3*np.outer(r_hat,r_hat),P/(R**3))\n",
    "    \n",
    "    E_rad *= -1/(4*np.pi*eps0)\n",
    "    \n",
    "    return E_rad"
   ]
  },
  {
   "cell_type": "code",
   "execution_count": null,
   "metadata": {},
   "outputs": [],
   "source": [
    "def get_chi(t, Er):\n",
    "    #Takes in a radiation field from a specific dot and returns chi for that dot.\n",
    "    wave_vector = x_hat\n",
    "    r = x_hat*0.0\n",
    "    args = np.dot(wave_vector,r) - omega_0*(t-t0)\n",
    "    \n",
    "    #pulse = np.exp(omega_0*(t - t0)**2/(2*sigma**2))\n",
    "    #pulse = 0\n",
    "    pulse = 1\n",
    "    El = (E0*np.cos(args)*pulse)*x_hat[:,np.newaxis]\n",
    "    \n",
    "#     plt.figure()\n",
    "#     plt.plot(t,Er[0,:],label='Er')\n",
    "#     plt.legend()\n",
    "    \n",
    "#     plt.figure()\n",
    "#     plt.plot(t,El[0,:],label='E laser')\n",
    "#     plt.legend()\n",
    "#     plt.show()\n",
    "    \n",
    "    E = El + Er\n",
    "    chi = np.dot(d_vector,E) / hbar\n",
    "    \n",
    "    return chi"
   ]
  },
  {
   "cell_type": "code",
   "execution_count": null,
   "metadata": {},
   "outputs": [],
   "source": [
    "t_k = np.linspace(0,stop_time,num_coefficients - 1)"
   ]
  },
  {
   "cell_type": "code",
   "execution_count": null,
   "metadata": {},
   "outputs": [],
   "source": [
    "def plot_error(t,f1,f2,f3,f4,f5,f6):\n",
    "    plt.figure()\n",
    "    plt.semilogy(t,abs(f1),label='f1')\n",
    "    plt.semilogy(t,abs(f2),label='f2')\n",
    "    plt.semilogy(t,abs(f3),label='f3')\n",
    "    plt.legend()\n",
    "    plt.show()"
   ]
  },
  {
   "cell_type": "code",
   "execution_count": null,
   "metadata": {},
   "outputs": [],
   "source": [
    "def plot_chi(t,chi):\n",
    "    plt.figure()\n",
    "    plt.plot(t,chi,label='chi')\n",
    "    plt.legend()\n",
    "    plt.show()"
   ]
  },
  {
   "cell_type": "code",
   "execution_count": null,
   "metadata": {},
   "outputs": [],
   "source": [
    "def get_f(coefficients,t=t_k):\n",
    "    #Takes in an array of Fourier coefficients for u,v,w for both dots and returns the error functions in time\n",
    "    u1_coeff = coefficients[:num_coefficients]\n",
    "    v1_coeff = coefficients[num_coefficients:2*num_coefficients]\n",
    "    w1_coeff = coefficients[2*num_coefficients:3*num_coefficients]\n",
    "    \n",
    "    u2_coeff = coefficients[3*num_coefficients:4*num_coefficients]\n",
    "    v2_coeff = coefficients[4*num_coefficients:5*num_coefficients]\n",
    "    w2_coeff = coefficients[5*num_coefficients:]\n",
    "    \n",
    "    gamma_t = get_gamma(t)\n",
    "    gamma_prime = get_gamma_prime(t)\n",
    "    gamma_0 = get_gamma_t0(0)\n",
    "    \n",
    "    u1 = gamma_t@u1_coeff\n",
    "    v1 = gamma_t@v1_coeff\n",
    "    w1 = gamma_t@w1_coeff\n",
    "    \n",
    "    u1_prime = gamma_prime@u1_coeff\n",
    "    v1_prime = gamma_prime@v1_coeff\n",
    "    w1_prime = gamma_prime@w1_coeff\n",
    "    \n",
    "    u2 = gamma_t@u2_coeff\n",
    "    v2 = gamma_t@v2_coeff\n",
    "    w2 = gamma_t@w2_coeff\n",
    "    \n",
    "    u2_prime = gamma_prime@u2_coeff\n",
    "    v2_prime = gamma_prime@v2_coeff\n",
    "    w2_prime = gamma_prime@w2_coeff\n",
    "     \n",
    "    Er_dot1 = get_E_rad(u1_coeff,v1_coeff,w1_coeff,t,r_hat_dot1)\n",
    "    Er_dot2 = get_E_rad(u2_coeff,v2_coeff,w2_coeff,t,r_hat_dot2)\n",
    "    \n",
    "    chi1 = get_chi(t,Er_dot2)\n",
    "    chi2 = get_chi(t,Er_dot1)\n",
    "    \n",
    "    f1_dot1 = -omega_0*v1 - u1_prime\n",
    "    f2_dot1 = omega_0*u1 - 2*chi1*w1 - v1_prime\n",
    "    f3_dot1 = 2*chi1*v1 - w1_prime\n",
    "    f4_dot1 = gamma_0@u1_coeff\n",
    "    f5_dot1 = gamma_0@v1_coeff\n",
    "    f6_dot1 = gamma_0@w1_coeff + 1\n",
    "    \n",
    "    f1_dot2 = -omega_0*v2 - u2_prime\n",
    "    f2_dot2 = omega_0*u2 - 2*chi2*w2 - v2_prime\n",
    "    f3_dot2 = 2*chi2*v2 - w2_prime\n",
    "    f4_dot2 = gamma_0@u2_coeff\n",
    "    f5_dot2 = gamma_0@v2_coeff\n",
    "    f6_dot2 = gamma_0@w2_coeff + 1\n",
    "    \n",
    "    fk_dot1 = np.hstack((f1_dot1,f2_dot1,f3_dot1,f4_dot1,f5_dot1,f6_dot1))\n",
    "    fk_dot2 = np.hstack((f1_dot2,f2_dot2,f3_dot2,f4_dot2,f5_dot2,f6_dot2))\n",
    "    \n",
    "    return np.hstack((fk_dot1,fk_dot2))"
   ]
  },
  {
   "cell_type": "code",
   "execution_count": null,
   "metadata": {},
   "outputs": [],
   "source": [
    "def get_chirad(coefficients,t=t_k):\n",
    "    #Takes in an array of Fourier coefficients for u,v,w for both dots and returns the error functions in time\n",
    "    u1_coeff = coefficients[:num_coefficients]\n",
    "    v1_coeff = coefficients[num_coefficients:2*num_coefficients]\n",
    "    w1_coeff = coefficients[2*num_coefficients:3*num_coefficients]\n",
    "    \n",
    "    u2_coeff = coefficients[3*num_coefficients:4*num_coefficients]\n",
    "    v2_coeff = coefficients[4*num_coefficients:5*num_coefficients]\n",
    "    w2_coeff = coefficients[5*num_coefficients:]\n",
    "    \n",
    "    gamma_t = get_gamma(t)\n",
    "    gamma_prime = get_gamma_prime(t)\n",
    "    gamma_0 = get_gamma_t0(0)\n",
    "    \n",
    "    u1 = gamma_t@u1_coeff\n",
    "    v1 = gamma_t@v1_coeff\n",
    "    w1 = gamma_t@w1_coeff\n",
    "    \n",
    "    u1_prime = gamma_prime@u1_coeff\n",
    "    v1_prime = gamma_prime@v1_coeff\n",
    "    w1_prime = gamma_prime@w1_coeff\n",
    "    \n",
    "    u2 = gamma_t@u2_coeff\n",
    "    v2 = gamma_t@v2_coeff\n",
    "    w2 = gamma_t@w2_coeff\n",
    "    \n",
    "    u2_prime = gamma_prime@u2_coeff\n",
    "    v2_prime = gamma_prime@v2_coeff\n",
    "    w2_prime = gamma_prime@w2_coeff\n",
    "     \n",
    "    Er_dot1 = get_E_rad(u1_coeff,v1_coeff,w1_coeff,t,r_hat_dot1)\n",
    "    Er_dot2 = get_E_rad(u2_coeff,v2_coeff,w2_coeff,t,r_hat_dot2)\n",
    "    \n",
    "    chi_rad = np.dot(d_vector,Er_dot1) / hbar\n",
    "    chi = get_chi(t,Er_dot2)\n",
    "    \n",
    "    return chi_rad,chi"
   ]
  },
  {
   "cell_type": "code",
   "execution_count": null,
   "metadata": {},
   "outputs": [],
   "source": [
    "#Creates initial guesses for u,v,w for both dots using least square approximation\n",
    "gamma = get_gamma(t_elliot)\n",
    "W = gamma.T@gamma\n",
    "W_inv = linalg.inv(W)\n",
    "\n",
    "u1_guess = W_inv@(gamma.T@u1_elliot) \n",
    "v1_guess = W_inv@(gamma.T@v1_elliot)\n",
    "w1_guess = W_inv@(gamma.T@w1_elliot)\n",
    "\n",
    "u2_guess = W_inv@(gamma.T@u2_elliot)\n",
    "v2_guess = W_inv@(gamma.T@v2_elliot)\n",
    "w2_guess = W_inv@(gamma.T@w1_elliot)\n",
    "\n",
    "coefficients_guess = np.hstack((u1_guess,v1_guess,w1_guess,u2_guess,v2_guess,w2_guess)) "
   ]
  },
  {
   "cell_type": "code",
   "execution_count": null,
   "metadata": {},
   "outputs": [],
   "source": [
    "u1_guess = gamma@u1_guess\n",
    "v1_guess = gamma@v1_guess\n",
    "w1_guess = gamma@w1_guess\n",
    "\n",
    "u2_guess = gamma@u2_guess\n",
    "v2_guess = gamma@v2_guess\n",
    "w2_guess = gamma@w2_guess"
   ]
  },
  {
   "cell_type": "code",
   "execution_count": null,
   "metadata": {},
   "outputs": [],
   "source": [
    "compare_frequency_spectra_solutions(u1_guess,u1_elliot,t_elliot,360,364)"
   ]
  },
  {
   "cell_type": "code",
   "execution_count": null,
   "metadata": {},
   "outputs": [],
   "source": [
    "#Solve system using Scipy Optimize Package\n",
    "with timer():\n",
    "    coeff = optimize.fsolve(get_f,coefficients_guess)"
   ]
  },
  {
   "cell_type": "code",
   "execution_count": null,
   "metadata": {},
   "outputs": [],
   "source": [
    "Audio('Ring.wav',autoplay=True)"
   ]
  },
  {
   "cell_type": "code",
   "execution_count": null,
   "metadata": {},
   "outputs": [],
   "source": [
    "u1_coeff = coeff[:num_coefficients]\n",
    "v1_coeff = coeff[num_coefficients:2*num_coefficients]\n",
    "w1_coeff = coeff[2*num_coefficients:3*num_coefficients]\n",
    "\n",
    "u2_coeff = coeff[3*num_coefficients:4*num_coefficients]\n",
    "v2_coeff = coeff[4*num_coefficients:5*num_coefficients]\n",
    "w2_coeff = coeff[5*num_coefficients:]\n",
    "\n",
    "u1 = gamma@u1_coeff\n",
    "v1 = gamma@v1_coeff\n",
    "w1 = gamma@w1_coeff\n",
    "\n",
    "u2 = gamma@u2_coeff\n",
    "v2 = gamma@v2_coeff\n",
    "w2 = gamma@w2_coeff"
   ]
  },
  {
   "cell_type": "code",
   "execution_count": null,
   "metadata": {},
   "outputs": [],
   "source": [
    "plt.figure()\n",
    "plt.plot(t_elliot,u1_guess,label='u1 Guess')\n",
    "plt.plot(t_elliot,u1_elliot,label='u1  Solution Elliot')\n",
    "plt.xlim(0,0.05)\n",
    "plt.legend()\n",
    "plt.show()"
   ]
  },
  {
   "cell_type": "code",
   "execution_count": null,
   "metadata": {},
   "outputs": [],
   "source": [
    "compare_frequency_spectra_solutions(u1,u1_elliot,t_elliot,362,363)"
   ]
  },
  {
   "cell_type": "code",
   "execution_count": null,
   "metadata": {},
   "outputs": [],
   "source": [
    "plt.plot((np.fft.fftshift((np.angle(np.fft.fft(u1),deg=True)-np.angle(np.fft.fft(u1_elliot),deg=True)+360)%360)))\n",
    "\n",
    "# plt.xlim(0,1000)"
   ]
  },
  {
   "cell_type": "code",
   "execution_count": null,
   "metadata": {},
   "outputs": [],
   "source": [
    "print(f_r/2,9/8)"
   ]
  },
  {
   "cell_type": "code",
   "execution_count": null,
   "metadata": {},
   "outputs": [],
   "source": [
    "plt.plot(np.angle(u1),label='chad')\n",
    "plt.plot(np.angle(u1_elliot),label='elliot')\n",
    "plt.xlim(0,200)"
   ]
  },
  {
   "cell_type": "code",
   "execution_count": null,
   "metadata": {},
   "outputs": [],
   "source": [
    "compare_frequency_spectra_solutions(w1,w1_elliot,t_elliot,719,726)"
   ]
  },
  {
   "cell_type": "code",
   "execution_count": null,
   "metadata": {},
   "outputs": [],
   "source": [
    "plt.figure()\n",
    "plt.plot(t_elliot,u1,label='Chad solution u1')\n",
    "plt.plot(t_elliot,u1_elliot,label='Elliot solution u1')\n",
    "plt.xlim(0,8/9)\n",
    "plt.legend()\n",
    "plt.show()"
   ]
  },
  {
   "cell_type": "code",
   "execution_count": null,
   "metadata": {},
   "outputs": [],
   "source": [
    "compare_frequency_spectra_solutions(u1,u1_elliot,t_elliot,0,2)"
   ]
  },
  {
   "cell_type": "code",
   "execution_count": null,
   "metadata": {},
   "outputs": [],
   "source": [
    "plt.figure()\n",
    "plt.plot(t_elliot,v1,label='Chad solution v1')\n",
    "plt.plot(t_elliot,v1_elliot,label='Elliot solution v1')\n",
    "plt.xlim(0,0.05)\n",
    "plt.legend()\n",
    "plt.show()"
   ]
  },
  {
   "cell_type": "code",
   "execution_count": null,
   "metadata": {},
   "outputs": [],
   "source": [
    "plt.figure()\n",
    "plt.plot(t_elliot,w1,label='Chad solution w1')\n",
    "plt.plot(t_elliot,w1_elliot,label='Elliot solution w1')\n",
    "plt.legend()\n",
    "plt.show()"
   ]
  },
  {
   "cell_type": "code",
   "execution_count": null,
   "metadata": {},
   "outputs": [],
   "source": [
    "plt.figure()\n",
    "plt.plot(t_elliot,np.sqrt(u1**2 + v1**2),label='chad')\n",
    "plt.plot(t_elliot,np.sqrt(u1_elliot**2 + v1_elliot**2),label='elliot')\n",
    "plt.legend()\n"
   ]
  },
  {
   "cell_type": "code",
   "execution_count": null,
   "metadata": {},
   "outputs": [],
   "source": [
    "plt.figure()\n",
    "plt.plot(t_elliot,chi_chad,label='chi Chad')\n",
    "plt.plot(t_elliot,chi_elliot,label='chi Elliot')\n",
    "plt.legend()\n",
    "plt.xlim(0,0.1)\n",
    "plt.show()"
   ]
  },
  {
   "cell_type": "code",
   "execution_count": null,
   "metadata": {},
   "outputs": [],
   "source": [
    "plt.figure()\n",
    "plt.plot(t_elliot,chi_rad_chad,label='chi radiation Chad')\n",
    "plt.plot(t_elliot,chi_rad_elliot,label='chi radiation Elliot')\n",
    "plt.legend()\n",
    "plt.xlim(0,0.1)\n",
    "plt.show()"
   ]
  },
  {
   "cell_type": "code",
   "execution_count": null,
   "metadata": {},
   "outputs": [],
   "source": []
  }
 ],
 "metadata": {
  "kernelspec": {
   "display_name": "Python 3",
   "language": "python",
   "name": "python3"
  },
  "language_info": {
   "codemirror_mode": {
    "name": "ipython",
    "version": 3
   },
   "file_extension": ".py",
   "mimetype": "text/x-python",
   "name": "python",
   "nbconvert_exporter": "python",
   "pygments_lexer": "ipython3",
   "version": "3.8.3"
  }
 },
 "nbformat": 4,
 "nbformat_minor": 4
}
